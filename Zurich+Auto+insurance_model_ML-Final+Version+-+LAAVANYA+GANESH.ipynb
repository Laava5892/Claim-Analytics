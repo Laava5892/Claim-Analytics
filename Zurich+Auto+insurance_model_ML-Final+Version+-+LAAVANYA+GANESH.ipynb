{
 "cells": [
  {
   "cell_type": "markdown",
   "metadata": {},
   "source": [
    "#### Importing Libraries"
   ]
  },
  {
   "cell_type": "code",
   "execution_count": 1,
   "metadata": {
    "collapsed": true
   },
   "outputs": [],
   "source": [
    "import pandas as pd\n",
    "import numpy as np\n",
    "import matplotlib.pyplot as plt\n",
    "import seaborn as sns\n",
    "%matplotlib inline\n",
    "sns.set_style('whitegrid')"
   ]
  },
  {
   "cell_type": "markdown",
   "metadata": {},
   "source": [
    "#### Reading in Training Data "
   ]
  },
  {
   "cell_type": "code",
   "execution_count": 2,
   "metadata": {
    "collapsed": true
   },
   "outputs": [],
   "source": [
    "df = pd.read_csv('auto_policies_2017.csv')"
   ]
  },
  {
   "cell_type": "markdown",
   "metadata": {},
   "source": [
    "#### Data Pre-processing to fill in missing values and create new variables"
   ]
  },
  {
   "cell_type": "code",
   "execution_count": 3,
   "metadata": {
    "collapsed": true
   },
   "outputs": [],
   "source": [
    "df['date'] = pd.to_datetime(df['date_of_birth'])"
   ]
  },
  {
   "cell_type": "code",
   "execution_count": 4,
   "metadata": {
    "collapsed": true
   },
   "outputs": [],
   "source": [
    "df['year'] = df['date'].dt.year"
   ]
  },
  {
   "cell_type": "code",
   "execution_count": 5,
   "metadata": {
    "collapsed": true
   },
   "outputs": [],
   "source": [
    "df1 = df.groupby('agecat')['year'].min()\n",
    "df2 = df.groupby('agecat')['year'].max()"
   ]
  },
  {
   "cell_type": "code",
   "execution_count": 6,
   "metadata": {},
   "outputs": [
    {
     "data": {
      "text/plain": [
       "agecat\n",
       "1.0    1990\n",
       "2.0    1980\n",
       "3.0    1970\n",
       "4.0    1960\n",
       "5.0    1950\n",
       "6.0    1923\n",
       "Name: year, dtype: int64"
      ]
     },
     "execution_count": 6,
     "metadata": {},
     "output_type": "execute_result"
    }
   ],
   "source": [
    "df1"
   ]
  },
  {
   "cell_type": "code",
   "execution_count": 7,
   "metadata": {
    "scrolled": false
   },
   "outputs": [
    {
     "data": {
      "text/plain": [
       "agecat\n",
       "1.0    1999\n",
       "2.0    1989\n",
       "3.0    1979\n",
       "4.0    1969\n",
       "5.0    1959\n",
       "6.0    1949\n",
       "Name: year, dtype: int64"
      ]
     },
     "execution_count": 7,
     "metadata": {},
     "output_type": "execute_result"
    }
   ],
   "source": [
    "df2"
   ]
  },
  {
   "cell_type": "code",
   "execution_count": 8,
   "metadata": {},
   "outputs": [],
   "source": [
    "conditions = [\n",
    "    (df['year'] >= 1990) & (df['year'] <= 1999),\n",
    "    (df['year'] >= 1980) & (df['year'] <= 1989),\n",
    "    (df['year'] >= 1970) & (df['year'] <= 1979),\n",
    "    (df['year'] >= 1960) & (df['year'] <= 1969),\n",
    "    (df['year'] >= 1950) & (df['year'] <= 1959),]\n",
    "choices = [1,2,3,4,5]\n",
    "df['agecat_imputed'] = np.select(conditions, choices,default=6)"
   ]
  },
  {
   "cell_type": "code",
   "execution_count": 9,
   "metadata": {
    "collapsed": true
   },
   "outputs": [],
   "source": [
    "df3 = df.groupby('agecat_imputed')['credit_score'].mean()"
   ]
  },
  {
   "cell_type": "code",
   "execution_count": 10,
   "metadata": {
    "scrolled": true
   },
   "outputs": [
    {
     "data": {
      "text/plain": [
       "agecat_imputed\n",
       "1    577.405131\n",
       "2    594.119094\n",
       "3    659.271850\n",
       "4    677.017937\n",
       "5    737.101795\n",
       "6    691.745888\n",
       "Name: credit_score, dtype: float64"
      ]
     },
     "execution_count": 10,
     "metadata": {},
     "output_type": "execute_result"
    }
   ],
   "source": [
    "df3"
   ]
  },
  {
   "cell_type": "code",
   "execution_count": 11,
   "metadata": {
    "collapsed": true
   },
   "outputs": [],
   "source": [
    "df4 = df.groupby('area')['traffic_index'].mean()"
   ]
  },
  {
   "cell_type": "code",
   "execution_count": 12,
   "metadata": {
    "scrolled": true
   },
   "outputs": [
    {
     "data": {
      "text/plain": [
       "area\n",
       "A     80.201316\n",
       "B    120.211648\n",
       "C    128.474092\n",
       "D     99.400110\n",
       "E     45.018979\n",
       "F    115.208244\n",
       "Name: traffic_index, dtype: float64"
      ]
     },
     "execution_count": 12,
     "metadata": {},
     "output_type": "execute_result"
    }
   ],
   "source": [
    "df4"
   ]
  },
  {
   "cell_type": "code",
   "execution_count": 13,
   "metadata": {},
   "outputs": [],
   "source": [
    "conditions1 = [\n",
    "    (df['agecat_imputed'] ==1),\n",
    "    (df['agecat_imputed'] ==2),\n",
    "    (df['agecat_imputed'] ==3),\n",
    "    (df['agecat_imputed'] ==4),\n",
    "    (df['agecat_imputed'] ==5)]\n",
    "choices1 = [577.405131,594.119094,659.271850,677.017937,737.101795]\n",
    "df['credit_score_imputed'] = np.select(conditions1, choices1,default=691.745888)"
   ]
  },
  {
   "cell_type": "code",
   "execution_count": 14,
   "metadata": {
    "collapsed": true
   },
   "outputs": [],
   "source": [
    "df['credit_score_imp']=(df.credit_score_imputed/df.credit_score_imputed.max())*100"
   ]
  },
  {
   "cell_type": "code",
   "execution_count": 15,
   "metadata": {},
   "outputs": [],
   "source": [
    "conditions2 = [\n",
    "    (df['area'] =='A'),\n",
    "    (df['area'] =='B'),\n",
    "    (df['area'] =='C'),\n",
    "    (df['area'] =='D'),\n",
    "    (df['area'] =='E')]\n",
    "choices2 = [80.201316,120.211648,128.474092,99.400110,45.018979]\n",
    "df['traffic_index_imputed'] = np.select(conditions2, choices2,default=115.208244)"
   ]
  },
  {
   "cell_type": "markdown",
   "metadata": {},
   "source": [
    "### Exploratory Data Analysis"
   ]
  },
  {
   "cell_type": "code",
   "execution_count": 16,
   "metadata": {},
   "outputs": [
    {
     "data": {
      "image/png": "[encoded data removed]",
      "text/plain": [
       "<matplotlib.figure.Figure at 0x10d34c6a0>"
      ]
     },
     "metadata": {},
     "output_type": "display_data"
    }
   ],
   "source": [
    "# Plot the Claim counts\n",
    "fig, (ax1, ax2) = plt.subplots(ncols=2)\n",
    "fig.set_size_inches(20,3)\n",
    "g = sns.countplot(x='numclaims',data=df, palette='RdBu_r', ax=ax1)\n",
    "title = g.set_title('Claim Counts')\n",
    "\n",
    "# Since there are very few incidences with claim count>1, we club them together with claim_count\n",
    "df['claim_count'] = df['numclaims'].apply(lambda x:1 if x>0 else 0)\n",
    "g = sns.countplot(x='claim_count',data=df, palette='RdBu_r', ax=ax2)\n",
    "title = g.set_title('Claim or No-Claim')"
   ]
  },
  {
   "cell_type": "code",
   "execution_count": 17,
   "metadata": {},
   "outputs": [
    {
     "data": {
      "image/png": "[encoded data removed]",
      "text/plain": [
       "<matplotlib.figure.Figure at 0x10aa92860>"
      ]
     },
     "metadata": {},
     "output_type": "display_data"
    }
   ],
   "source": [
    "#Sort by sex\n",
    "fig, (ax1, ax2) = plt.subplots(ncols=2)\n",
    "fig.set_size_inches(8,2.5)\n",
    "g = sns.countplot(x='gender',data=df.sort_values('gender'), palette='RdBu_r', ax=ax1)\n",
    "title = g.set_title('Overall')\n",
    "g = sns.countplot(x='gender',data=df[df['claim_count']>0].sort_values('gender'), palette='RdBu_r', ax=ax2)\n",
    "title = g.set_title('Claim_count>0')"
   ]
  },
  {
   "cell_type": "code",
   "execution_count": 18,
   "metadata": {},
   "outputs": [
    {
     "data": {
      "image/png": "[encoded data removed]",
      "text/plain": [
       "<matplotlib.figure.Figure at 0x10d9b5cc0>"
      ]
     },
     "metadata": {},
     "output_type": "display_data"
    }
   ],
   "source": [
    "#Visualize Vehicle Body Type\n",
    "fig, (ax1, ax2) = plt.subplots(ncols=2)\n",
    "fig.set_size_inches(10,3)\n",
    "g = sns.countplot(x='veh_body',data=df, palette='RdBu_r', ax=ax1)\n",
    "label = g.set_xticklabels(g.get_xticklabels(), rotation=45)\n",
    "title = g.set_title('Overall')\n",
    "g = sns.countplot(x='veh_body',data=df[df['claim_count']>0], palette='RdBu_r', ax=ax2)\n",
    "label = g.set_xticklabels(g.get_xticklabels(), rotation=45)\n",
    "title = g.set_title('Claim_count>0')"
   ]
  },
  {
   "cell_type": "code",
   "execution_count": 19,
   "metadata": {},
   "outputs": [
    {
     "data": {
      "image/png": "[encoded data removed]",
      "text/plain": [
       "<matplotlib.figure.Figure at 0x10e066dd8>"
      ]
     },
     "metadata": {},
     "output_type": "display_data"
    }
   ],
   "source": [
    "#Visualize Vehicle Age\n",
    "fig, (ax1, ax2) = plt.subplots(ncols=2)\n",
    "fig.set_size_inches(10,3)\n",
    "g = sns.countplot(x='veh_age',data=df, palette='RdBu_r', ax=ax1)\n",
    "title = g.set_title('Overall')\n",
    "g = sns.countplot(x='veh_age',data=df[df['claim_count']>0], palette='RdBu_r', ax=ax2)\n",
    "title = g.set_title('Claim_count>0')"
   ]
  },
  {
   "cell_type": "code",
   "execution_count": 20,
   "metadata": {},
   "outputs": [
    {
     "data": {
      "image/png": "[encoded data removed]",
      "text/plain": [
       "<matplotlib.figure.Figure at 0x10e1c6898>"
      ]
     },
     "metadata": {},
     "output_type": "display_data"
    }
   ],
   "source": [
    "#Visualize Area\n",
    "fig, (ax1, ax2) = plt.subplots(ncols=2)\n",
    "fig.set_size_inches(8,2.5)\n",
    "g = sns.countplot(x='area',data=df, palette='RdBu_r', ax=ax1)\n",
    "title = g.set_title('Overall')\n",
    "g = sns.countplot(x='area',data=df[df['claim_count']>0], palette='RdBu_r', ax=ax2)\n",
    "title = g.set_title('Claim_count>0')"
   ]
  },
  {
   "cell_type": "code",
   "execution_count": 21,
   "metadata": {},
   "outputs": [
    {
     "data": {
      "image/png": "[encoded data removed]",
      "text/plain": [
       "<matplotlib.figure.Figure at 0x10e83bb00>"
      ]
     },
     "metadata": {},
     "output_type": "display_data"
    }
   ],
   "source": [
    "#Visualize Driver Age\n",
    "fig, (ax1, ax2) = plt.subplots(ncols=2)\n",
    "fig.set_size_inches(8,2.5)\n",
    "g = sns.countplot(x='agecat_imputed',data=df, palette='RdBu_r', ax=ax1)\n",
    "title = g.set_title('Overall')\n",
    "g = sns.countplot(x='agecat_imputed',data=df[df['claim_count']>0], palette='RdBu_r', ax=ax2)\n",
    "title = g.set_title('Claim_count>0')"
   ]
  },
  {
   "cell_type": "code",
   "execution_count": 22,
   "metadata": {},
   "outputs": [
    {
     "data": {
      "image/png": "[encoded data removed]",
      "text/plain": [
       "<matplotlib.figure.Figure at 0x10e0fdc88>"
      ]
     },
     "metadata": {},
     "output_type": "display_data"
    }
   ],
   "source": [
    "#Visualize Credit_score\n",
    "fig, (ax1, ax2) = plt.subplots(ncols=2)\n",
    "fig.set_size_inches(30,10)\n",
    "g = sns.countplot(x='credit_score_imp',data=df, palette='RdBu_r', ax=ax1)\n",
    "title = g.set_title('Overall')\n",
    "g = sns.countplot(x='credit_score_imp',data=df[df['claim_count']>0], palette='RdBu_r', ax=ax2)\n",
    "title = g.set_title('Claim_count>0')"
   ]
  },
  {
   "cell_type": "code",
   "execution_count": 23,
   "metadata": {},
   "outputs": [
    {
     "data": {
      "image/png": "[encoded data removed]",
      "text/plain": [
       "<matplotlib.figure.Figure at 0x10ab6e1d0>"
      ]
     },
     "metadata": {},
     "output_type": "display_data"
    }
   ],
   "source": [
    "#Visualize Traffic_index\n",
    "fig, (ax1, ax2) = plt.subplots(ncols=2)\n",
    "fig.set_size_inches(30,10)\n",
    "g = sns.countplot(x='traffic_index_imputed',data=df, palette='RdBu_r', ax=ax1)\n",
    "title = g.set_title('Overall')\n",
    "g = sns.countplot(x='traffic_index_imputed',data=df[df['claim_count']>0], palette='RdBu_r', ax=ax2)\n",
    "title = g.set_title('Claim_count>0')"
   ]
  },
  {
   "cell_type": "code",
   "execution_count": 24,
   "metadata": {},
   "outputs": [
    {
     "data": {
      "image/png": "[encoded data removed]",
      "text/plain": [
       "<matplotlib.figure.Figure at 0x10d922a58>"
      ]
     },
     "metadata": {},
     "output_type": "display_data"
    }
   ],
   "source": [
    "#Make Vehicle Value categorical\n",
    "df['cat_veh_value'] = df['veh_value'].apply(lambda x:1 if x<=1 else 2 if x<=2 else 3 if x<=3 else 4 if x<=4 else 5)\n",
    "#Visualize Vehicle Value\n",
    "fig, (ax1, ax2) = plt.subplots(ncols=2)\n",
    "fig.set_size_inches(10,3)\n",
    "g = sns.countplot(x='cat_veh_value',data=df, palette='RdBu_r', ax=ax1)\n",
    "title = g.set_title('Overall')\n",
    "g = sns.countplot(x='cat_veh_value',data=df[df['claim_count']>0], palette='RdBu_r', ax=ax2)\n",
    "title = g.set_title('Claim_count>0')"
   ]
  },
  {
   "cell_type": "markdown",
   "metadata": {},
   "source": [
    "## Creating the Model"
   ]
  },
  {
   "cell_type": "markdown",
   "metadata": {},
   "source": [
    "### One Hot Encoding, creating dummy variables of each attribute"
   ]
  },
  {
   "cell_type": "code",
   "execution_count": 25,
   "metadata": {
    "collapsed": true
   },
   "outputs": [],
   "source": [
    "#Function to Prepare the data\n",
    "\n",
    "def prep_data(df):\n",
    "    #Prepare the data\n",
    "    df_dummy = df[['pol_number','credit_score_imp','traffic_index_imputed','claim_count','claimcst0']].copy()\n",
    "    #Make dummy variables using Pandas\n",
    "    df_dummy = pd.concat([df_dummy,pd.get_dummies(df['veh_age'],prefix=\"veh_age\")],axis=1)\n",
    "    df_dummy = pd.concat([df_dummy,pd.get_dummies(df['agecat_imputed'],prefix=\"agecat_imputed\")],axis=1)\n",
    "    df_dummy = pd.concat([df_dummy,pd.get_dummies(df['veh_body'],prefix=\"veh_body\")],axis=1)\n",
    "    df_dummy = pd.concat([df_dummy,pd.get_dummies(df['gender'],prefix=\"gender\")],axis=1)\n",
    "    df_dummy = pd.concat([df_dummy,pd.get_dummies(df['area'],prefix=\"area\")],axis=1)\n",
    "    df_dummy = pd.concat([df_dummy,pd.get_dummies(df['cat_veh_value'],prefix=\"cat_veh_value\")],axis=1)\n",
    "    \n",
    "   \n",
    "    #We are trying to predict whether there is claim or no claim\n",
    "    df_dummy['claim_count'] = df_dummy['claim_count'].apply(lambda x: 1 if x>0 else 0)\n",
    "    return(df_dummy)"
   ]
  },
  {
   "cell_type": "code",
   "execution_count": 26,
   "metadata": {
    "collapsed": true
   },
   "outputs": [],
   "source": [
    "df_train = df.copy()"
   ]
  },
  {
   "cell_type": "markdown",
   "metadata": {},
   "source": [
    "#### Splitting Data into train and validation"
   ]
  },
  {
   "cell_type": "code",
   "execution_count": 27,
   "metadata": {
    "collapsed": true
   },
   "outputs": [],
   "source": [
    "from sklearn.model_selection import train_test_split\n",
    "train, test = train_test_split(df_train, test_size=0.2, random_state=12345)"
   ]
  },
  {
   "cell_type": "code",
   "execution_count": 28,
   "metadata": {
    "collapsed": true
   },
   "outputs": [],
   "source": [
    "#We create a separate X_train and X_test dataset because we would require the categorical variables in the original dataset later \n",
    "#X_train and X_test dataframes have only dummy variables\n",
    "X_train = prep_data(train)\n",
    "X_test = prep_data(test)\n",
    "\n",
    "#Create two additional columns for the individual probabilities of claim (prob1) and no-claim (prob0)\n",
    "X_train['prob0'] = np.zeros(len(X_train))\n",
    "X_train['prob1'] = np.zeros(len(X_train))\n",
    "\n",
    "X_test['prob0'] = np.zeros(len(X_test))\n",
    "X_test['prob1'] = np.zeros(len(X_test))"
   ]
  },
  {
   "cell_type": "markdown",
   "metadata": {},
   "source": [
    "### Logistic Regression to get the probabilities of atleast one claim or no claim"
   ]
  },
  {
   "cell_type": "code",
   "execution_count": 29,
   "metadata": {
    "collapsed": true
   },
   "outputs": [],
   "source": [
    "def logfunc(X_train, X_test):\n",
    "    \n",
    "    #In the first part, we use Logistic Regression to get the probabilities of claim vs no-claim\n",
    "    from sklearn.linear_model import LogisticRegression\n",
    "    logmodel = LogisticRegression(C=1000, class_weight='balanced')\n",
    "\n",
    "    n=10\n",
    "\n",
    "    for i in range (0,n):\n",
    "\n",
    "        #Choose 3000 Negative Classes\n",
    "        X_train_temp = X_train.loc[np.random.choice(X_train[X_train['claim_count']==0].index, 3000, replace = False)]\n",
    "        #Choose 3000 Positive Classes\n",
    "        X_train_pos = X_train.loc[np.random.choice(X_train[X_train['claim_count']==1].index, 3000, replace = True)]\n",
    "        #Append the positive classes \n",
    "        X_train_temp = X_train_temp.append(X_train_pos, ignore_index=True)\n",
    "\n",
    "        #Separate into X and Y to train the model\n",
    "        y_train_temp = X_train_temp['claim_count']\n",
    "        X_train_temp.drop(['pol_number','claim_count','claimcst0','prob0','prob1'], axis=1,inplace=True)\n",
    "\n",
    "\n",
    "        #Fit the Logistic Regression Model\n",
    "        logmodel.fit(X_train_temp,y_train_temp)\n",
    "        X_train[['prob0','prob1']] = X_train[['prob0','prob1']] + logmodel.predict_proba(X_train.drop(['pol_number','claim_count','claimcst0','prob0','prob1'],axis=1))\n",
    "        X_test[['prob0','prob1']] = X_test[['prob0','prob1']] + logmodel.predict_proba(X_test.drop(['pol_number','claim_count','claimcst0','prob0','prob1'],axis=1))\n",
    "\n",
    "    #Divide the log_proba and log_probb values by 10 to get the average log probabilities\n",
    "    X_train['prob0']=X_train['prob0']/n\n",
    "    X_train['prob1']=X_train['prob1']/n\n",
    "\n",
    "    X_test['prob0']=X_test['prob0']/n\n",
    "    X_test['prob1']=X_test['prob1']/n\n",
    "\n",
    "    #Check the metrics on training and test data\n",
    "    logProb = 1\n",
    "    temp = logProb > (X_test['prob0']/X_test['prob1'])\n",
    "    X_test['predicted_claim_count']= [1 if (p==True) else 0 for p in temp]\n",
    "\n",
    "    #Metrics on Test set\n",
    "    from sklearn.metrics import classification_report\n",
    "    print(classification_report(X_test['claim_count'],X_test['predicted_claim_count']))\n",
    "\n",
    "    #Calculate Claim Frequency for Test Set\n",
    "    X_test['predicted_freq']= X_test['prob1'].divide(X_test['prob0'])\n",
    "    X_test['predicted_freq']= X_test['predicted_freq'].apply(lambda x: x**3.65)\n",
    "    return logmodel, X_test, X_train\n"
   ]
  },
  {
   "cell_type": "code",
   "execution_count": 30,
   "metadata": {},
   "outputs": [
    {
     "name": "stdout",
     "output_type": "stream",
     "text": [
      "             precision    recall  f1-score   support\n",
      "\n",
      "          0       0.91      0.67      0.77     10052\n",
      "          1       0.29      0.69      0.41      2027\n",
      "\n",
      "avg / total       0.81      0.67      0.71     12079\n",
      "\n"
     ]
    }
   ],
   "source": [
    "logmodel, X_test , X_train = logfunc(X_train,X_test)"
   ]
  },
  {
   "cell_type": "code",
   "execution_count": 31,
   "metadata": {
    "collapsed": true
   },
   "outputs": [],
   "source": [
    "X_test1 = X_test.copy() # Gradient Boosted"
   ]
  },
  {
   "cell_type": "code",
   "execution_count": 32,
   "metadata": {
    "collapsed": true
   },
   "outputs": [],
   "source": [
    "X_test2 = X_test.copy() # GLM"
   ]
  },
  {
   "cell_type": "code",
   "execution_count": 33,
   "metadata": {
    "collapsed": true
   },
   "outputs": [],
   "source": [
    "X_test3 = X_test.copy() # Decision Trees"
   ]
  },
  {
   "cell_type": "code",
   "execution_count": 34,
   "metadata": {
    "collapsed": true
   },
   "outputs": [],
   "source": [
    "X_test4 = X_test.copy()  # Extra Trees "
   ]
  },
  {
   "cell_type": "code",
   "execution_count": 35,
   "metadata": {
    "collapsed": true
   },
   "outputs": [],
   "source": [
    "X_test5 = X_test.copy() # Random Forest"
   ]
  },
  {
   "cell_type": "markdown",
   "metadata": {},
   "source": [
    "### Different Functions for Regression Analysis to Predict Claim Cost"
   ]
  },
  {
   "cell_type": "markdown",
   "metadata": {},
   "source": [
    "#### Gradient Boosted Function"
   ]
  },
  {
   "cell_type": "code",
   "execution_count": 36,
   "metadata": {
    "collapsed": true
   },
   "outputs": [],
   "source": [
    "def xgboostfunc(X_train, X_test1):   \n",
    "    #Part 2: Use Regression for predicting Claim Severity\n",
    "\n",
    "    X_test1.drop('predicted_claim_count',axis=1,inplace=True, errors='ignore')\n",
    "\n",
    "    #Train only on the subset of positive claim counts\n",
    "    X_train_regress = X_train[X_train['claim_count']>0].copy()\n",
    "    y_train_regress = np.log(X_train[X_train['claim_count']>0]['claimcst0'])\n",
    "\n",
    "    #Implement XGBoost for regression\n",
    "    import xgboost as xgb\n",
    "    num_round = 1\n",
    "\n",
    "    T_train_xgb = xgb.DMatrix(X_train_regress.drop(['pol_number','claim_count','claimcst0','prob0','prob1'],axis=1), y_train_regress)\n",
    "    params = {\"objective\": \"reg:linear\"}\n",
    "    gbm = xgb.train(dtrain=T_train_xgb,params=params)\n",
    "    predictions = gbm.predict(xgb.DMatrix(X_test1.drop(['pol_number','claim_count','claimcst0','prob0','prob1','predicted_freq'],axis=1)))\n",
    "    X_test1['predicted_claim_cost']=[np.exp(p) for p in predictions]\n",
    "    X_test1['predicted_claim_cost']=X_test1['predicted_claim_cost'].multiply(X_test1['predicted_freq'])\n",
    "    return gbm, X_test1.copy()"
   ]
  },
  {
   "cell_type": "code",
   "execution_count": 37,
   "metadata": {},
   "outputs": [],
   "source": [
    "gbm, X_test1 = xgboostfunc(X_train,X_test1)"
   ]
  },
  {
   "cell_type": "code",
   "execution_count": 38,
   "metadata": {},
   "outputs": [
    {
     "data": {
      "text/plain": [
       "<seaborn.axisgrid.JointGrid at 0x10e0d3be0>"
      ]
     },
     "execution_count": 38,
     "metadata": {},
     "output_type": "execute_result"
    },
    {
     "data": {
      "image/png": "[encoded data removed]",
      "text/plain": [
       "<matplotlib.figure.Figure at 0x10d67b400>"
      ]
     },
     "metadata": {},
     "output_type": "display_data"
    }
   ],
   "source": [
    "sns.jointplot(X_test1.predicted_claim_cost.clip(upper=10000), X_test1.claimcst0, kind='reg',x_bins=25,ylim=[0,4000])"
   ]
  },
  {
   "cell_type": "code",
   "execution_count": 39,
   "metadata": {},
   "outputs": [
    {
     "data": {
      "text/plain": [
       "5212.8275872903332"
      ]
     },
     "execution_count": 39,
     "metadata": {},
     "output_type": "execute_result"
    }
   ],
   "source": [
    "from sklearn.metrics import mean_squared_error\n",
    "mean_squared_error(X_test1.claimcst0, X_test1.predicted_claim_cost.clip(upper=10000))**0.5"
   ]
  },
  {
   "cell_type": "markdown",
   "metadata": {},
   "source": [
    "#### Generalised Linear Model Function"
   ]
  },
  {
   "cell_type": "code",
   "execution_count": 40,
   "metadata": {
    "collapsed": true
   },
   "outputs": [],
   "source": [
    "def glmfunc(X_train, X_test2):\n",
    "\n",
    "    import statsmodels.api as sm\n",
    "    \n",
    "    X_test2.drop(['predicted_claim_count','predicted_claim_cost'],axis=1,inplace=True, errors='ignore')\n",
    "\n",
    "    #Train only on the subset of positive claim counts\n",
    "    X_train_regress = X_train[X_train['claim_count']>0].copy()\n",
    "    y_train_regress = np.log(X_train[X_train['claim_count']>0]['claimcst0'])\n",
    "\n",
    "    fam = sm.families.Poisson()\n",
    "    glm = sm.GLM(y_train_regress,X_train_regress.drop(['pol_number','claim_count','claimcst0','prob0','prob1'],axis=1), family=fam)\n",
    "    res = glm.fit()\n",
    "    predict = res.predict(X_test2.drop(['pol_number','claim_count','claimcst0','prob0','prob1','predicted_freq'],axis=1))\n",
    "    X_test2['predicted_claim_cost']=[np.exp(p) for p in predict]\n",
    "    X_test2['predicted_claim_cost']=X_test2['predicted_claim_cost'].multiply(X_test2['predicted_freq'])\n",
    "    return res, X_test2.copy()"
   ]
  },
  {
   "cell_type": "code",
   "execution_count": 41,
   "metadata": {},
   "outputs": [
    {
     "name": "stderr",
     "output_type": "stream",
     "text": [
      "/Applications/anaconda/lib/python3.6/site-packages/statsmodels/compat/pandas.py:56: FutureWarning: The pandas.core.datetools module is deprecated and will be removed in a future version. Please use the pandas.tseries module instead.\n",
      "  from pandas.core import datetools\n"
     ]
    }
   ],
   "source": [
    "glm, X_test2 = glmfunc(X_train,X_test2)"
   ]
  },
  {
   "cell_type": "code",
   "execution_count": 42,
   "metadata": {},
   "outputs": [
    {
     "data": {
      "text/plain": [
       "<seaborn.axisgrid.JointGrid at 0x112677128>"
      ]
     },
     "execution_count": 42,
     "metadata": {},
     "output_type": "execute_result"
    },
    {
     "data": {
      "image/png": "[encoded data removed]",
      "text/plain": [
       "<matplotlib.figure.Figure at 0x112677198>"
      ]
     },
     "metadata": {},
     "output_type": "display_data"
    }
   ],
   "source": [
    "sns.jointplot(X_test2.predicted_claim_cost.clip(upper=10000), X_test2.claimcst0, kind='reg',x_bins=25,ylim=[0,4000])"
   ]
  },
  {
   "cell_type": "code",
   "execution_count": 43,
   "metadata": {},
   "outputs": [
    {
     "data": {
      "text/plain": [
       "5343.7993274896289"
      ]
     },
     "execution_count": 43,
     "metadata": {},
     "output_type": "execute_result"
    }
   ],
   "source": [
    "from sklearn.metrics import mean_squared_error\n",
    "mean_squared_error(X_test2.claimcst0, X_test2.predicted_claim_cost.clip(upper=10000))**0.5"
   ]
  },
  {
   "cell_type": "markdown",
   "metadata": {},
   "source": [
    "#### Decision Trees Regressor Function"
   ]
  },
  {
   "cell_type": "code",
   "execution_count": 44,
   "metadata": {
    "collapsed": true
   },
   "outputs": [],
   "source": [
    "def DTfunc(X_train, X_test3):   \n",
    "    #Part 2: Use Regression for predicting Claim Severity\n",
    "    \n",
    "    from sklearn.tree import DecisionTreeRegressor\n",
    "\n",
    "    X_test3.drop(['predicted_claim_count','predicted_claim_cost'],axis=1,inplace=True, errors='ignore')\n",
    "\n",
    "    #Train only on the subset of positive claim counts\n",
    "    X_train_regress = X_train[X_train['claim_count']>0].copy()\n",
    "    y_train_regress = np.log(X_train[X_train['claim_count']>0]['claimcst0'])\n",
    "\n",
    "    #Implement XGBoost for regression\n",
    "    from sklearn.tree import DecisionTreeRegressor\n",
    "    num_round = 1\n",
    "    clf_entropy = DecisionTreeRegressor(criterion = \"mse\", random_state = 12345, max_depth = 3, min_samples_leaf = 5,min_samples_split=5)\n",
    " \n",
    "    # Performing training\n",
    "    dT = clf_entropy.fit(X_train_regress.drop(['pol_number','claim_count','claimcst0','prob0','prob1'],axis=1), y_train_regress)\n",
    "\n",
    "    predictions = dT.predict(X_test3.drop(['pol_number','claim_count','claimcst0','prob0','prob1','predicted_freq'],axis=1))\n",
    "    X_test3['predicted_claim_cost']=[np.exp(p) for p in predictions]\n",
    "    X_test3['predicted_claim_cost']=X_test3['predicted_claim_cost'].multiply(X_test3['predicted_freq'])\n",
    "    return dT, X_test3.copy()"
   ]
  },
  {
   "cell_type": "code",
   "execution_count": 45,
   "metadata": {},
   "outputs": [],
   "source": [
    "dT, X_test3 = DTfunc(X_train,X_test3)"
   ]
  },
  {
   "cell_type": "code",
   "execution_count": 46,
   "metadata": {},
   "outputs": [
    {
     "data": {
      "text/plain": [
       "<seaborn.axisgrid.JointGrid at 0x1129ce780>"
      ]
     },
     "execution_count": 46,
     "metadata": {},
     "output_type": "execute_result"
    },
    {
     "data": {
      "image/png": "[encoded data removed]",
      "text/plain": [
       "<matplotlib.figure.Figure at 0x1129c4748>"
      ]
     },
     "metadata": {},
     "output_type": "display_data"
    }
   ],
   "source": [
    "sns.jointplot(X_test3.predicted_claim_cost.clip(upper=10000), X_test3.claimcst0, kind='reg',x_bins=25,ylim=[0,4000])"
   ]
  },
  {
   "cell_type": "code",
   "execution_count": 47,
   "metadata": {},
   "outputs": [
    {
     "data": {
      "text/plain": [
       "5419.0163294149907"
      ]
     },
     "execution_count": 47,
     "metadata": {},
     "output_type": "execute_result"
    }
   ],
   "source": [
    "from sklearn.metrics import mean_squared_error\n",
    "mean_squared_error(X_test3.claimcst0, X_test3.predicted_claim_cost.clip(upper=10000))**0.5"
   ]
  },
  {
   "cell_type": "markdown",
   "metadata": {},
   "source": [
    "#### Extra Trees Regressor Function"
   ]
  },
  {
   "cell_type": "code",
   "execution_count": 48,
   "metadata": {
    "collapsed": true
   },
   "outputs": [],
   "source": [
    "def ETfunc(X_train, X_test4):   \n",
    "    #Part 2: Use Regression for predicting Claim Severity\n",
    "    \n",
    "    from sklearn.ensemble import ExtraTreesRegressor\n",
    "\n",
    "    X_test4.drop(['predicted_claim_count','predicted_claim_cost'],axis=1,inplace=True, errors='ignore')\n",
    "\n",
    "    #Train only on the subset of positive claim counts\n",
    "    X_train_regress = X_train[X_train['claim_count']>0].copy()\n",
    "    y_train_regress = np.log(X_train[X_train['claim_count']>0]['claimcst0'])\n",
    "\n",
    "    #Implement XGBoost for regression\n",
    "    from sklearn.ensemble import ExtraTreesRegressor\n",
    "    num_round = 1\n",
    "\n",
    "    clf = ExtraTreesRegressor(n_estimators=10, criterion = \"mse\", random_state = 12345, max_depth = 3, min_samples_leaf = 5,min_samples_split=5)\n",
    "  \n",
    "    clf2= clf.fit(X_train_regress.drop(['pol_number','claim_count','claimcst0','prob0','prob1'],axis=1), y_train_regress)\n",
    "    predictions = clf2.predict(X_test4.drop(['pol_number','claim_count','claimcst0','prob0','prob1','predicted_freq'],axis=1))\n",
    "        \n",
    "    X_test4['predicted_claim_cost']=[np.exp(p) for p in predictions]\n",
    "    X_test4['predicted_claim_cost']=X_test4['predicted_claim_cost'].multiply(X_test4['predicted_freq'])\n",
    "    return clf2, X_test4.copy()"
   ]
  },
  {
   "cell_type": "code",
   "execution_count": 49,
   "metadata": {},
   "outputs": [],
   "source": [
    "et, X_test4 = ETfunc(X_train,X_test4)"
   ]
  },
  {
   "cell_type": "code",
   "execution_count": 50,
   "metadata": {},
   "outputs": [
    {
     "data": {
      "text/plain": [
       "<seaborn.axisgrid.JointGrid at 0x11689db00>"
      ]
     },
     "execution_count": 50,
     "metadata": {},
     "output_type": "execute_result"
    },
    {
     "data": {
      "image/png": "[encoded data removed]",
      "text/plain": [
       "<matplotlib.figure.Figure at 0x11689db70>"
      ]
     },
     "metadata": {},
     "output_type": "display_data"
    }
   ],
   "source": [
    "sns.jointplot(X_test4.predicted_claim_cost.clip(upper=10000), X_test4.claimcst0, kind='reg',x_bins=25,ylim=[0,4000])"
   ]
  },
  {
   "cell_type": "code",
   "execution_count": 51,
   "metadata": {},
   "outputs": [
    {
     "data": {
      "text/plain": [
       "5410.2703286864962"
      ]
     },
     "execution_count": 51,
     "metadata": {},
     "output_type": "execute_result"
    }
   ],
   "source": [
    "from sklearn.metrics import mean_squared_error\n",
    "mean_squared_error(X_test4.claimcst0, X_test4.predicted_claim_cost.clip(upper=10000))**0.5"
   ]
  },
  {
   "cell_type": "markdown",
   "metadata": {},
   "source": [
    "#### Random Forest Regressor Function"
   ]
  },
  {
   "cell_type": "code",
   "execution_count": 52,
   "metadata": {
    "collapsed": true
   },
   "outputs": [],
   "source": [
    "def RFfunc(X_train, X_test5):   \n",
    "    #Part 2: Use Regression for predicting Claim Severity\n",
    "    \n",
    "    from sklearn.ensemble import RandomForestRegressor\n",
    "\n",
    "    X_test5.drop(['predicted_claim_count','predicted_claim_cost'],axis=1,inplace=True, errors='ignore')\n",
    "\n",
    "    #Train only on the subset of positive claim counts\n",
    "    X_train_regress = X_train[X_train['claim_count']>0].copy()\n",
    "    y_train_regress = np.log(X_train[X_train['claim_count']>0]['claimcst0'])\n",
    "\n",
    "    num_round = 1\n",
    "\n",
    "    rf = RandomForestRegressor(criterion = \"mse\", random_state = 12345, max_depth = 3, min_samples_leaf = 5,min_samples_split=5)\n",
    "    rf2= rf.fit(X_train_regress.drop(['pol_number','claim_count','claimcst0','prob0','prob1'],axis=1), y_train_regress)\n",
    "    predictions = rf2.predict(X_test5.drop(['pol_number','claim_count','claimcst0','prob0','prob1','predicted_freq'],axis=1))\n",
    "        \n",
    "    X_test5['predicted_claim_cost']=[np.exp(p) for p in predictions]\n",
    "    X_test5['predicted_claim_cost']=X_test5['predicted_claim_cost'].multiply(X_test5['predicted_freq'])\n",
    "    return rf2, X_test5.copy()"
   ]
  },
  {
   "cell_type": "code",
   "execution_count": 53,
   "metadata": {},
   "outputs": [],
   "source": [
    "rf, X_test5 = RFfunc(X_train,X_test5)"
   ]
  },
  {
   "cell_type": "code",
   "execution_count": 54,
   "metadata": {},
   "outputs": [
    {
     "data": {
      "text/plain": [
       "<seaborn.axisgrid.JointGrid at 0x113e0cb70>"
      ]
     },
     "execution_count": 54,
     "metadata": {},
     "output_type": "execute_result"
    },
    {
     "data": {
      "image/png": "[encoded data removed]",
      "text/plain": [
       "<matplotlib.figure.Figure at 0x113e0ce10>"
      ]
     },
     "metadata": {},
     "output_type": "display_data"
    }
   ],
   "source": [
    "sns.jointplot(X_test5.predicted_claim_cost.clip(upper=10000), X_test5.claimcst0, kind='reg',x_bins=25,ylim=[0,4000])"
   ]
  },
  {
   "cell_type": "code",
   "execution_count": 55,
   "metadata": {},
   "outputs": [
    {
     "data": {
      "text/plain": [
       "5420.5194603386844"
      ]
     },
     "execution_count": 55,
     "metadata": {},
     "output_type": "execute_result"
    }
   ],
   "source": [
    "from sklearn.metrics import mean_squared_error\n",
    "mean_squared_error(X_test5.claimcst0, X_test5.predicted_claim_cost.clip(upper=10000))**0.5"
   ]
  },
  {
   "cell_type": "markdown",
   "metadata": {},
   "source": [
    "#### Function to calculate normalized gini coeeficients to evaluate model performance"
   ]
  },
  {
   "cell_type": "code",
   "execution_count": 56,
   "metadata": {
    "collapsed": true
   },
   "outputs": [],
   "source": [
    "def gini(actual, pred):\n",
    "    assert (len(actual) == len(pred))\n",
    "    all = np.asarray(np.c_[actual, pred, np.arange(len(actual))], dtype=np.float)\n",
    "    all = all[np.lexsort((all[:, 2], -1 * all[:, 1]))]\n",
    "    totalLosses = all[:, 0].sum()\n",
    "    giniSum = all[:, 0].cumsum().sum() / totalLosses\n",
    "\n",
    "    giniSum -= (len(actual) + 1) / 2.\n",
    "    return giniSum / len(actual)\n",
    "\n",
    "\n",
    "def gini_normalized(actual, pred):\n",
    "    return gini(actual, pred) / gini(actual, actual)"
   ]
  },
  {
   "cell_type": "code",
   "execution_count": 57,
   "metadata": {
    "collapsed": true
   },
   "outputs": [],
   "source": [
    "from sklearn.model_selection import KFold"
   ]
  },
  {
   "cell_type": "markdown",
   "metadata": {},
   "source": [
    "#### Model Selection by Running KFold cross validation "
   ]
  },
  {
   "cell_type": "code",
   "execution_count": 58,
   "metadata": {},
   "outputs": [
    {
     "name": "stdout",
     "output_type": "stream",
     "text": [
      "TRAIN: [12079 12080 12081 ..., 60389 60390 60391] TEST: [    0     1     2 ..., 12076 12077 12078]\n",
      "             precision    recall  f1-score   support\n",
      "\n",
      "          0       0.91      0.67      0.77     10043\n",
      "          1       0.29      0.67      0.40      2036\n",
      "\n",
      "avg / total       0.80      0.67      0.71     12079\n",
      "\n",
      "TRAIN: [    0     1     2 ..., 60389 60390 60391] TEST: [12079 12080 12081 ..., 24155 24156 24157]\n",
      "             precision    recall  f1-score   support\n",
      "\n",
      "          0       0.91      0.67      0.77     10065\n",
      "          1       0.29      0.69      0.41      2014\n",
      "\n",
      "avg / total       0.81      0.67      0.71     12079\n",
      "\n",
      "TRAIN: [    0     1     2 ..., 60389 60390 60391] TEST: [24158 24159 24160 ..., 36233 36234 36235]\n",
      "             precision    recall  f1-score   support\n",
      "\n",
      "          0       0.91      0.68      0.78     10092\n",
      "          1       0.29      0.66      0.40      1986\n",
      "\n",
      "avg / total       0.81      0.68      0.72     12078\n",
      "\n",
      "TRAIN: [    0     1     2 ..., 60389 60390 60391] TEST: [36236 36237 36238 ..., 48311 48312 48313]\n",
      "             precision    recall  f1-score   support\n",
      "\n",
      "          0       0.91      0.68      0.78     10102\n",
      "          1       0.29      0.67      0.40      1976\n",
      "\n",
      "avg / total       0.81      0.67      0.72     12078\n",
      "\n",
      "TRAIN: [    0     1     2 ..., 48311 48312 48313] TEST: [48314 48315 48316 ..., 60389 60390 60391]\n",
      "             precision    recall  f1-score   support\n",
      "\n",
      "          0       0.92      0.67      0.78     10060\n",
      "          1       0.30      0.70      0.42      2018\n",
      "\n",
      "avg / total       0.82      0.68      0.72     12078\n",
      "\n"
     ]
    }
   ],
   "source": [
    "ginilist_xgb = []\n",
    "ginilist_glm = []\n",
    "ginilist_dt = []\n",
    "ginilist_et = []\n",
    "ginilist_rf = []\n",
    "ginilist_avg = []\n",
    "\n",
    "df_log= pd.DataFrame(data=[])\n",
    "df_xgb= pd.DataFrame(data=[])\n",
    "df_glm= pd.DataFrame(data=[])\n",
    "df_dT= pd.DataFrame(data=[])\n",
    "df_eT= pd.DataFrame(data=[])\n",
    "df_RF= pd.DataFrame(data=[])\n",
    "\n",
    "fold=1\n",
    "kf = KFold(n_splits=5, random_state=12345) \n",
    "for train_index, test_index in kf.split(df_train):\n",
    "    print(\"TRAIN:\", train_index, \"TEST:\", test_index)\n",
    "    X_train, X_test = df_train.iloc[train_index].copy(), df_train.iloc[test_index].copy()\n",
    "    \n",
    "    #We create a separate X_train and X_test dataset because we would require the categorical variables in the original dataset later \n",
    "    #X_train and X_test dataframes have only dummy variables\n",
    "    X_train = prep_data(X_train)\n",
    "    X_test = prep_data(X_test)\n",
    "    \n",
    "    #Create two additional columns for the individual probabilities of claim (prob1) and no-claim (prob0)\n",
    "    X_train['prob0'] = np.zeros(len(X_train))\n",
    "    X_train['prob1'] = np.zeros(len(X_train))\n",
    "\n",
    "    X_test['prob0'] = np.zeros(len(X_test))\n",
    "    X_test['prob1'] = np.zeros(len(X_test))\n",
    "    \n",
    "    logmodel, X_testlog , X_train = logfunc(X_train,X_test)\n",
    "    \n",
    "    trainDF_log = X_train.copy()\n",
    "    testDF_log = X_testlog.copy()\n",
    "    \n",
    "    gbm, X_test1 = xgboostfunc(X_train,X_testlog)\n",
    "    testDF_xgb = X_test1.copy()\n",
    "    \n",
    "    glm, X_test2 = glmfunc(X_train,X_testlog)\n",
    "    testDF_glm = X_test2.copy()\n",
    "    testDF_glm_factors = X_test2.copy()\n",
    "    \n",
    "    dT, X_test3 = DTfunc(X_train,X_testlog)\n",
    "    testDF_dt = X_test3.copy()\n",
    "    \n",
    "    eT, X_test4 = ETfunc(X_train,X_testlog)\n",
    "    testDF_et = X_test4.copy()\n",
    "    \n",
    "    rF, X_test5 = RFfunc(X_train,X_testlog)\n",
    "    testDF_rf = X_test5.copy()\n",
    "    \n",
    "    \n",
    "    testDF_log['iteration'] = '%s%d' % ('V', fold)\n",
    "    df_log = pd.concat([df_log, testDF_log])\n",
    "    testDF_xgb['iteration'] = '%s%d' % ('V', fold)\n",
    "    df_xgb = pd.concat([df_xgb, testDF_xgb])\n",
    "    testDF_glm['iteration'] = '%s%d' % ('V', fold)\n",
    "    df_glm = pd.concat([df_glm, testDF_glm])\n",
    "    testDF_dt['iteration'] = '%s%d' % ('V', fold)\n",
    "    df_dT = pd.concat([df_dT, testDF_dt])\n",
    "    testDF_et['iteration'] = '%s%d' % ('V', fold)\n",
    "    df_eT = pd.concat([df_eT, testDF_et])\n",
    "    testDF_rf['iteration'] = '%s%d' % ('V', fold)\n",
    "    df_RF = pd.concat([df_RF, testDF_rf])\n",
    "\n",
    "    \n",
    "    prediction_xgb = X_test1['predicted_claim_cost']\n",
    "    gininorm_xgb = gini_normalized(X_test1.claimcst0.values,X_test1.predicted_claim_cost.values)\n",
    "    prediction_glm = X_test2['predicted_claim_cost']\n",
    "    gininorm_glm = gini_normalized(X_test2.claimcst0.values,X_test2.predicted_claim_cost.values)\n",
    "    prediction_dt = X_test3['predicted_claim_cost']\n",
    "    gininorm_dt = gini_normalized(X_test3.claimcst0.values,X_test3.predicted_claim_cost.values)\n",
    "    prediction_et = X_test4['predicted_claim_cost']\n",
    "    gininorm_et = gini_normalized(X_test4.claimcst0.values,X_test4.predicted_claim_cost.values)\n",
    "    prediction_rf = X_test5['predicted_claim_cost']\n",
    "    gininorm_rf = gini_normalized(X_test5.claimcst0.values,X_test5.predicted_claim_cost.values) \n",
    "    \n",
    "    \n",
    "    prediction_avg = (prediction_xgb+prediction_glm+prediction_dt+prediction_et+prediction_rf)/5\n",
    "    gininorm_avg = gini_normalized(X_test1.claimcst0.values,prediction_avg.values)\n",
    "    \n",
    "    ginilist_xgb.append(gininorm_xgb)\n",
    "    ginilist_glm.append(gininorm_glm)\n",
    "    ginilist_dt.append(gininorm_dt)\n",
    "    ginilist_et.append(gininorm_et)\n",
    "    ginilist_rf.append(gininorm_rf)\n",
    "    ginilist_avg.append(gininorm_avg)\n",
    "    "
   ]
  },
  {
   "cell_type": "markdown",
   "metadata": {},
   "source": [
    "### GLM gave highest gini"
   ]
  },
  {
   "cell_type": "code",
   "execution_count": 59,
   "metadata": {},
   "outputs": [
    {
     "data": {
      "text/plain": [
       "[<matplotlib.lines.Line2D at 0x119c47cc0>]"
      ]
     },
     "execution_count": 59,
     "metadata": {},
     "output_type": "execute_result"
    },
    {
     "data": {
      "image/png": "[encoded data removed]",
      "text/plain": [
       "<matplotlib.figure.Figure at 0x116dffac8>"
      ]
     },
     "metadata": {},
     "output_type": "display_data"
    }
   ],
   "source": [
    "plt.plot(ginilist_xgb, color='red')\n",
    "plt.plot(ginilist_glm, color='blue')\n",
    "plt.plot(ginilist_dt, color='black')\n",
    "plt.plot(ginilist_et, color='pink')\n",
    "plt.plot(ginilist_rf, color='cyan')\n",
    "plt.plot(ginilist_avg, color='green')"
   ]
  },
  {
   "cell_type": "markdown",
   "metadata": {},
   "source": [
    "### Feature Importance for GLM"
   ]
  },
  {
   "cell_type": "code",
   "execution_count": 60,
   "metadata": {},
   "outputs": [
    {
     "name": "stdout",
     "output_type": "stream",
     "text": [
      "                 Generalized Linear Model Regression Results                  \n",
      "==============================================================================\n",
      "Dep. Variable:              claimcst0   No. Observations:                 8012\n",
      "Model:                            GLM   Df Residuals:                     7981\n",
      "Model Family:                 Poisson   Df Model:                           30\n",
      "Link Function:                    log   Scale:                             1.0\n",
      "Method:                          IRLS   Log-Likelihood:                -15952.\n",
      "Date:                Tue, 08 May 2018   Deviance:                       1271.1\n",
      "Time:                        05:48:58   Pearson chi2:                 1.26e+03\n",
      "No. Iterations:                     4                                         \n",
      "=========================================================================================\n",
      "                            coef    std err          z      P>|z|      [0.025      0.975]\n",
      "-----------------------------------------------------------------------------------------\n",
      "credit_score_imp          0.0224      0.000     64.509      0.000       0.022       0.023\n",
      "traffic_index_imputed  5.951e-05      0.000      0.288      0.773      -0.000       0.000\n",
      "veh_age_1                 0.1506      0.010     15.814      0.000       0.132       0.169\n",
      "veh_age_2                 0.0212      0.008      2.590      0.010       0.005       0.037\n",
      "veh_age_3                -0.0099      0.007     -1.376      0.169      -0.024       0.004\n",
      "veh_age_4                -0.0741      0.011     -6.989      0.000      -0.095      -0.053\n",
      "agecat_imputed_1          0.2940      0.009     32.400      0.000       0.276       0.312\n",
      "agecat_imputed_2          0.1879      0.009     21.515      0.000       0.171       0.205\n",
      "agecat_imputed_3         -0.0374      0.009     -4.046      0.000      -0.056      -0.019\n",
      "agecat_imputed_4         -0.1032      0.010    -10.844      0.000      -0.122      -0.085\n",
      "agecat_imputed_5         -0.2503      0.012    -21.672      0.000      -0.273      -0.228\n",
      "agecat_imputed_6         -0.0032      0.011     -0.293      0.769      -0.025       0.018\n",
      "veh_body_BUS              0.0666      0.110      0.605      0.545      -0.149       0.282\n",
      "veh_body_CONVT            0.1234      0.117      1.056      0.291      -0.106       0.353\n",
      "veh_body_COUPE            0.0368      0.042      0.885      0.376      -0.045       0.118\n",
      "veh_body_HBACK           -0.1079      0.027     -4.002      0.000      -0.161      -0.055\n",
      "veh_body_HDTOP            0.0596      0.033      1.787      0.074      -0.006       0.125\n",
      "veh_body_MCARA            0.1186      0.077      1.542      0.123      -0.032       0.269\n",
      "veh_body_MIBUS            0.0700      0.049      1.415      0.157      -0.027       0.167\n",
      "veh_body_PANVN           -0.0133      0.039     -0.342      0.732      -0.090       0.063\n",
      "veh_body_RDSTR            0.0139      0.224      0.062      0.950      -0.425       0.453\n",
      "veh_body_SEDAN           -0.0770      0.026     -2.959      0.003      -0.128      -0.026\n",
      "veh_body_STNWG           -0.1157      0.026     -4.535      0.000      -0.166      -0.066\n",
      "veh_body_TRUCK            0.0012      0.031      0.038      0.969      -0.059       0.061\n",
      "veh_body_UTE             -0.0884      0.027     -3.255      0.001      -0.142      -0.035\n",
      "gender_F                  0.0572      0.005     12.036      0.000       0.048       0.067\n",
      "gender_M                  0.0306      0.005      6.356      0.000       0.021       0.040\n",
      "area_A                    0.0078      0.010      0.747      0.455      -0.013       0.028\n",
      "area_B                    0.0104      0.008      1.249      0.211      -0.006       0.027\n",
      "area_C                   -0.0434      0.008     -5.438      0.000      -0.059      -0.028\n",
      "area_D                    0.0387      0.009      4.163      0.000       0.021       0.057\n",
      "area_E                    0.1241      0.007     16.835      0.000       0.110       0.139\n",
      "area_F                   -0.0499      0.014     -3.630      0.000      -0.077      -0.023\n",
      "cat_veh_value_1          -0.0435      0.015     -2.919      0.004      -0.073      -0.014\n",
      "cat_veh_value_2          -0.0086      0.008     -1.037      0.300      -0.025       0.008\n",
      "cat_veh_value_3           0.0172      0.009      1.978      0.048       0.000       0.034\n",
      "cat_veh_value_4           0.0486      0.013      3.807      0.000       0.024       0.074\n",
      "cat_veh_value_5           0.0741      0.015      5.033      0.000       0.045       0.103\n",
      "=========================================================================================\n"
     ]
    }
   ],
   "source": [
    "print(glm.summary())"
   ]
  },
  {
   "cell_type": "code",
   "execution_count": 61,
   "metadata": {
    "collapsed": true
   },
   "outputs": [],
   "source": [
    "colsV1 = ['pol_number','credit_score_imp','veh_age_1','veh_age_2','veh_age_4','agecat_imputed_1','agecat_imputed_2','agecat_imputed_3','agecat_imputed_4','agecat_imputed_5','veh_body_HBACK','veh_body_SEDAN','veh_body_UTE','veh_body_STNWG','gender_F','gender_M','area_C','area_D','area_E','area_F','cat_veh_value_1','cat_veh_value_3','cat_veh_value_4','cat_veh_value_5','claim_count','claimcst0']"
   ]
  },
  {
   "cell_type": "markdown",
   "metadata": {},
   "source": [
    "#### Running Kfold and evaluating model performance after inputing important features"
   ]
  },
  {
   "cell_type": "code",
   "execution_count": 62,
   "metadata": {},
   "outputs": [
    {
     "name": "stdout",
     "output_type": "stream",
     "text": [
      "TRAIN: [12079 12080 12081 ..., 60389 60390 60391] TEST: [    0     1     2 ..., 12076 12077 12078]\n",
      "             precision    recall  f1-score   support\n",
      "\n",
      "          0       0.91      0.64      0.75     10043\n",
      "          1       0.28      0.69      0.40      2036\n",
      "\n",
      "avg / total       0.81      0.65      0.70     12079\n",
      "\n",
      "TRAIN: [    0     1     2 ..., 60389 60390 60391] TEST: [12079 12080 12081 ..., 24155 24156 24157]\n",
      "             precision    recall  f1-score   support\n",
      "\n",
      "          0       0.92      0.64      0.75     10065\n",
      "          1       0.28      0.71      0.40      2014\n",
      "\n",
      "avg / total       0.81      0.65      0.69     12079\n",
      "\n",
      "TRAIN: [    0     1     2 ..., 60389 60390 60391] TEST: [24158 24159 24160 ..., 36233 36234 36235]\n",
      "             precision    recall  f1-score   support\n",
      "\n",
      "          0       0.91      0.65      0.76     10092\n",
      "          1       0.28      0.68      0.39      1986\n",
      "\n",
      "avg / total       0.81      0.66      0.70     12078\n",
      "\n",
      "TRAIN: [    0     1     2 ..., 60389 60390 60391] TEST: [36236 36237 36238 ..., 48311 48312 48313]\n",
      "             precision    recall  f1-score   support\n",
      "\n",
      "          0       0.91      0.64      0.75     10102\n",
      "          1       0.27      0.69      0.39      1976\n",
      "\n",
      "avg / total       0.81      0.65      0.69     12078\n",
      "\n",
      "TRAIN: [    0     1     2 ..., 48311 48312 48313] TEST: [48314 48315 48316 ..., 60389 60390 60391]\n",
      "             precision    recall  f1-score   support\n",
      "\n",
      "          0       0.92      0.66      0.76     10060\n",
      "          1       0.29      0.70      0.41      2018\n",
      "\n",
      "avg / total       0.81      0.66      0.71     12078\n",
      "\n"
     ]
    }
   ],
   "source": [
    "ginilist_xgb = []\n",
    "ginilist_glm = []\n",
    "ginilist_dt = []\n",
    "ginilist_et = []\n",
    "ginilist_rf = []\n",
    "ginilist_avg = []\n",
    "\n",
    "df_log= pd.DataFrame(data=[])\n",
    "df_xgb= pd.DataFrame(data=[])\n",
    "df_glm= pd.DataFrame(data=[])\n",
    "df_dT= pd.DataFrame(data=[])\n",
    "df_eT= pd.DataFrame(data=[])\n",
    "df_RF= pd.DataFrame(data=[])\n",
    "\n",
    "fold=1\n",
    "kf = KFold(n_splits=5, random_state=12345) \n",
    "for train_index, test_index in kf.split(df_train):\n",
    "    print(\"TRAIN:\", train_index, \"TEST:\", test_index)\n",
    "    X_train, X_test = df_train.iloc[train_index].copy(), df_train.iloc[test_index].copy()\n",
    "    \n",
    "    #We create a separate X_train and X_test dataset because we would require the categorical variables in the original dataset later \n",
    "    #X_train and X_test dataframes have only dummy variables\n",
    "    X_train = prep_data(X_train)\n",
    "    X_test = prep_data(X_test)\n",
    "    \n",
    "    X_train = X_train[colsV1]\n",
    "    X_test = X_test[colsV1]\n",
    "    \n",
    "    #Create two additional columns for the individual probabilities of claim (prob1) and no-claim (prob0)\n",
    "    X_train['prob0'] = np.zeros(len(X_train))\n",
    "    X_train['prob1'] = np.zeros(len(X_train))\n",
    "\n",
    "    X_test['prob0'] = np.zeros(len(X_test))\n",
    "    X_test['prob1'] = np.zeros(len(X_test))\n",
    "    \n",
    "    logmodel, X_testlog , X_train = logfunc(X_train,X_test)\n",
    "    \n",
    "    trainDF_log = X_train.copy()\n",
    "    testDF_log = X_testlog.copy()\n",
    "    \n",
    "    gbm, X_test1 = xgboostfunc(X_train,X_testlog)\n",
    "    testDF_xgb = X_test1.copy()\n",
    "    \n",
    "    glm, X_test2 = glmfunc(X_train,X_testlog)\n",
    "    testDF_glm = X_test2.copy()\n",
    "    testDF_glm_factors = X_test2.copy()\n",
    "    \n",
    "    dT, X_test3 = DTfunc(X_train,X_testlog)\n",
    "    testDF_dt = X_test3.copy()\n",
    "    \n",
    "    eT, X_test4 = ETfunc(X_train,X_testlog)\n",
    "    testDF_et = X_test4.copy()\n",
    "    \n",
    "    rF, X_test5 = RFfunc(X_train,X_testlog)\n",
    "    testDF_rf = X_test5.copy()\n",
    "    \n",
    "    \n",
    "    testDF_log['iteration'] = '%s%d' % ('V', fold)\n",
    "    df_log = pd.concat([df_log, testDF_log])\n",
    "    testDF_xgb['iteration'] = '%s%d' % ('V', fold)\n",
    "    df_xgb = pd.concat([df_xgb, testDF_xgb])\n",
    "    testDF_glm['iteration'] = '%s%d' % ('V', fold)\n",
    "    df_glm = pd.concat([df_glm, testDF_glm])\n",
    "    testDF_dt['iteration'] = '%s%d' % ('V', fold)\n",
    "    df_dT = pd.concat([df_dT, testDF_dt])\n",
    "    testDF_et['iteration'] = '%s%d' % ('V', fold)\n",
    "    df_eT = pd.concat([df_eT, testDF_et])\n",
    "    testDF_rf['iteration'] = '%s%d' % ('V', fold)\n",
    "    df_RF = pd.concat([df_RF, testDF_rf])\n",
    "\n",
    "    \n",
    "    prediction_xgb = X_test1['predicted_claim_cost']\n",
    "    gininorm_xgb = gini_normalized(X_test1.claimcst0.values,X_test1.predicted_claim_cost.values)\n",
    "    prediction_glm = X_test2['predicted_claim_cost']\n",
    "    gininorm_glm = gini_normalized(X_test2.claimcst0.values,X_test2.predicted_claim_cost.values)\n",
    "    prediction_dt = X_test3['predicted_claim_cost']\n",
    "    gininorm_dt = gini_normalized(X_test3.claimcst0.values,X_test3.predicted_claim_cost.values)\n",
    "    prediction_et = X_test4['predicted_claim_cost']\n",
    "    gininorm_et = gini_normalized(X_test4.claimcst0.values,X_test4.predicted_claim_cost.values)\n",
    "    prediction_rf = X_test5['predicted_claim_cost']\n",
    "    gininorm_rf = gini_normalized(X_test5.claimcst0.values,X_test5.predicted_claim_cost.values) \n",
    "    \n",
    "    \n",
    "    prediction_avg = (prediction_xgb+prediction_glm+prediction_dt+prediction_et+prediction_rf)/5\n",
    "    gininorm_avg = gini_normalized(X_test1.claimcst0.values,prediction_avg.values)\n",
    "    \n",
    "    ginilist_xgb.append(gininorm_xgb)\n",
    "    ginilist_glm.append(gininorm_glm)\n",
    "    ginilist_dt.append(gininorm_dt)\n",
    "    ginilist_et.append(gininorm_et)\n",
    "    ginilist_rf.append(gininorm_rf)\n",
    "    ginilist_avg.append(gininorm_avg)\n",
    "   "
   ]
  },
  {
   "cell_type": "code",
   "execution_count": 63,
   "metadata": {},
   "outputs": [
    {
     "data": {
      "text/plain": [
       "[<matplotlib.lines.Line2D at 0x11b154da0>]"
      ]
     },
     "execution_count": 63,
     "metadata": {},
     "output_type": "execute_result"
    },
    {
     "data": {
      "image/png": "[encoded data removed]",
      "text/plain": [
       "<matplotlib.figure.Figure at 0x10fbd5278>"
      ]
     },
     "metadata": {},
     "output_type": "display_data"
    }
   ],
   "source": [
    "plt.plot(ginilist_xgb, color='red')\n",
    "plt.plot(ginilist_glm, color='blue')\n",
    "plt.plot(ginilist_dt, color='black')\n",
    "plt.plot(ginilist_et, color='pink')\n",
    "plt.plot(ginilist_rf, color='cyan')\n",
    "plt.plot(ginilist_avg, color='green')"
   ]
  },
  {
   "cell_type": "code",
   "execution_count": 64,
   "metadata": {},
   "outputs": [
    {
     "name": "stdout",
     "output_type": "stream",
     "text": [
      "                 Generalized Linear Model Regression Results                  \n",
      "==============================================================================\n",
      "Dep. Variable:              claimcst0   No. Observations:                 8012\n",
      "Model:                            GLM   Df Residuals:                     7990\n",
      "Model Family:                 Poisson   Df Model:                           21\n",
      "Link Function:                    log   Scale:                             1.0\n",
      "Method:                          IRLS   Log-Likelihood:                -15956.\n",
      "Date:                Tue, 08 May 2018   Deviance:                       1278.8\n",
      "Time:                        05:49:46   Pearson chi2:                 1.27e+03\n",
      "No. Iterations:                     4                                         \n",
      "====================================================================================\n",
      "                       coef    std err          z      P>|z|      [0.025      0.975]\n",
      "------------------------------------------------------------------------------------\n",
      "credit_score_imp     0.0226      0.000     97.447      0.000       0.022       0.023\n",
      "veh_age_1            0.1570      0.014     11.329      0.000       0.130       0.184\n",
      "veh_age_2            0.0286      0.013      2.287      0.022       0.004       0.053\n",
      "veh_age_4           -0.0604      0.013     -4.569      0.000      -0.086      -0.035\n",
      "agecat_imputed_1     0.2984      0.014     21.914      0.000       0.272       0.325\n",
      "agecat_imputed_2     0.1937      0.014     14.314      0.000       0.167       0.220\n",
      "agecat_imputed_3    -0.0332      0.015     -2.178      0.029      -0.063      -0.003\n",
      "agecat_imputed_4    -0.0998      0.016     -6.342      0.000      -0.131      -0.069\n",
      "agecat_imputed_5    -0.2482      0.019    -13.134      0.000      -0.285      -0.211\n",
      "veh_body_HBACK      -0.1323      0.017     -7.582      0.000      -0.166      -0.098\n",
      "veh_body_SEDAN      -0.1026      0.016     -6.459      0.000      -0.134      -0.071\n",
      "veh_body_UTE        -0.1148      0.018     -6.349      0.000      -0.150      -0.079\n",
      "veh_body_STNWG      -0.1436      0.015     -9.451      0.000      -0.173      -0.114\n",
      "gender_F             0.0590      0.005     11.961      0.000       0.049       0.069\n",
      "gender_M             0.0305      0.005      6.029      0.000       0.021       0.040\n",
      "area_C              -0.0512      0.010     -5.080      0.000      -0.071      -0.031\n",
      "area_D               0.0286      0.012      2.428      0.015       0.006       0.052\n",
      "area_E               0.1082      0.019      5.584      0.000       0.070       0.146\n",
      "area_F              -0.0592      0.018     -3.233      0.001      -0.095      -0.023\n",
      "cat_veh_value_1     -0.0398      0.014     -2.788      0.005      -0.068      -0.012\n",
      "cat_veh_value_3      0.0276      0.012      2.255      0.024       0.004       0.052\n",
      "cat_veh_value_4      0.0602      0.018      3.379      0.001       0.025       0.095\n",
      "cat_veh_value_5      0.0876      0.020      4.366      0.000       0.048       0.127\n",
      "====================================================================================\n"
     ]
    }
   ],
   "source": [
    "print(glm.summary())"
   ]
  },
  {
   "cell_type": "markdown",
   "metadata": {},
   "source": [
    "## GLM Model Uncertainity Removal"
   ]
  },
  {
   "cell_type": "code",
   "execution_count": 66,
   "metadata": {},
   "outputs": [],
   "source": [
    "# from sklearn.metrics import mutual_info_score\n",
    "# score = mutual_info_score(X_testlog.claim_count,X_testlog.predicted_claim_count)\n",
    "# score"
   ]
  },
  {
   "cell_type": "code",
   "execution_count": null,
   "metadata": {
    "collapsed": true
   },
   "outputs": [],
   "source": [
    "# p_true = pre_holdout_data['Churning'].mean()\n",
    "# p_false = 1-p_true\n",
    "# from scipy.stats import entropy\n",
    "# ent = entropy([p_true,p_false])"
   ]
  },
  {
   "cell_type": "code",
   "execution_count": 67,
   "metadata": {
    "collapsed": true
   },
   "outputs": [],
   "source": [
    "# uncertainity_explained = score/ent\n",
    "# uncertainity_explained"
   ]
  },
  {
   "cell_type": "markdown",
   "metadata": {},
   "source": [
    "#### Running for Test Data"
   ]
  },
  {
   "cell_type": "code",
   "execution_count": 68,
   "metadata": {
    "collapsed": true
   },
   "outputs": [],
   "source": [
    "df_test_valid = pd.read_csv('auto_potential_customers_2018.csv')"
   ]
  },
  {
   "cell_type": "markdown",
   "metadata": {},
   "source": [
    "#### Data pre processing on Test Data"
   ]
  },
  {
   "cell_type": "code",
   "execution_count": 69,
   "metadata": {
    "collapsed": true
   },
   "outputs": [],
   "source": [
    "df_test_valid['date'] = pd.to_datetime(df_test_valid['date_of_birth'])"
   ]
  },
  {
   "cell_type": "code",
   "execution_count": 70,
   "metadata": {
    "collapsed": true
   },
   "outputs": [],
   "source": [
    "df_test_valid['year'] = df_test_valid['date'].dt.year"
   ]
  },
  {
   "cell_type": "code",
   "execution_count": 71,
   "metadata": {
    "collapsed": true
   },
   "outputs": [],
   "source": [
    "df1_test_valid = df_test_valid.groupby('agecat')['year'].min()\n",
    "df2_test_valid= df_test_valid.groupby('agecat')['year'].max()"
   ]
  },
  {
   "cell_type": "code",
   "execution_count": 72,
   "metadata": {},
   "outputs": [
    {
     "data": {
      "text/plain": [
       "agecat\n",
       "1.0    1990\n",
       "2.0    1980\n",
       "3.0    1970\n",
       "4.0    1960\n",
       "5.0    1950\n",
       "6.0    1924\n",
       "Name: year, dtype: int64"
      ]
     },
     "execution_count": 72,
     "metadata": {},
     "output_type": "execute_result"
    }
   ],
   "source": [
    "df1_test_valid"
   ]
  },
  {
   "cell_type": "code",
   "execution_count": 73,
   "metadata": {
    "scrolled": false
   },
   "outputs": [
    {
     "data": {
      "text/plain": [
       "agecat\n",
       "1.0    1999\n",
       "2.0    1989\n",
       "3.0    1979\n",
       "4.0    1969\n",
       "5.0    1959\n",
       "6.0    1949\n",
       "Name: year, dtype: int64"
      ]
     },
     "execution_count": 73,
     "metadata": {},
     "output_type": "execute_result"
    }
   ],
   "source": [
    "df2_test_valid"
   ]
  },
  {
   "cell_type": "code",
   "execution_count": 74,
   "metadata": {
    "collapsed": true
   },
   "outputs": [],
   "source": [
    "conditions = [\n",
    "    (df_test_valid['year'] >= 1990) & (df_test_valid['year'] <= 1999),\n",
    "    (df_test_valid['year'] >= 1980) & (df_test_valid['year'] <= 1989),\n",
    "    (df_test_valid['year'] >= 1970) & (df_test_valid['year'] <= 1979),\n",
    "    (df_test_valid['year'] >= 1960) & (df_test_valid['year'] <= 1969),\n",
    "    (df_test_valid['year'] >= 1950) & (df_test_valid['year'] <= 1959),]\n",
    "choices = [1,2,3,4,5]\n",
    "df_test_valid['agecat_imputed'] = np.select(conditions, choices,default=6)"
   ]
  },
  {
   "cell_type": "code",
   "execution_count": 75,
   "metadata": {
    "collapsed": true
   },
   "outputs": [],
   "source": [
    "df3_test_valid = df_test_valid.groupby('agecat_imputed')['credit_score'].mean()"
   ]
  },
  {
   "cell_type": "code",
   "execution_count": 76,
   "metadata": {
    "scrolled": true
   },
   "outputs": [
    {
     "data": {
      "text/plain": [
       "agecat_imputed\n",
       "1    582.104396\n",
       "2    599.992200\n",
       "3    655.919780\n",
       "4    670.562428\n",
       "5    735.518641\n",
       "6    696.704641\n",
       "Name: credit_score, dtype: float64"
      ]
     },
     "execution_count": 76,
     "metadata": {},
     "output_type": "execute_result"
    }
   ],
   "source": [
    "df3_test_valid"
   ]
  },
  {
   "cell_type": "code",
   "execution_count": 77,
   "metadata": {
    "collapsed": true
   },
   "outputs": [],
   "source": [
    "df4_test_valid = df_test_valid.groupby('area')['traffic_index'].mean()"
   ]
  },
  {
   "cell_type": "code",
   "execution_count": 78,
   "metadata": {
    "scrolled": true
   },
   "outputs": [
    {
     "data": {
      "text/plain": [
       "area\n",
       "A     80.464980\n",
       "B    120.267909\n",
       "C    129.115227\n",
       "D    100.589112\n",
       "E     44.573322\n",
       "F    114.634286\n",
       "Name: traffic_index, dtype: float64"
      ]
     },
     "execution_count": 78,
     "metadata": {},
     "output_type": "execute_result"
    }
   ],
   "source": [
    "df4_test_valid"
   ]
  },
  {
   "cell_type": "code",
   "execution_count": 79,
   "metadata": {
    "collapsed": true
   },
   "outputs": [],
   "source": [
    "conditions1 = [\n",
    "    (df_test_valid['agecat_imputed'] ==1),\n",
    "    (df_test_valid['agecat_imputed'] ==2),\n",
    "    (df_test_valid['agecat_imputed'] ==3),\n",
    "    (df_test_valid['agecat_imputed'] ==4),\n",
    "    (df_test_valid['agecat_imputed'] ==5)]\n",
    "choices1 = [582.104396,599.992200,655.919780,670.562428,735.518641]\n",
    "df_test_valid['credit_score_imputed'] = np.select(conditions1, choices1,default=696.704641)"
   ]
  },
  {
   "cell_type": "code",
   "execution_count": 80,
   "metadata": {
    "collapsed": true
   },
   "outputs": [],
   "source": [
    "df_test_valid['credit_score_imp']=(df_test_valid.credit_score_imputed/df_test_valid.credit_score_imputed.max())*100"
   ]
  },
  {
   "cell_type": "code",
   "execution_count": 81,
   "metadata": {
    "collapsed": true
   },
   "outputs": [],
   "source": [
    "conditions2 = [\n",
    "    (df_test_valid['area'] =='A'),\n",
    "    (df_test_valid['area'] =='B'),\n",
    "    (df_test_valid['area'] =='C'),\n",
    "    (df_test_valid['area'] =='D'),\n",
    "    (df_test_valid['area'] =='E')]\n",
    "choices2 = [80.464980,120.267909,129.115227,100.589112,44.573322]\n",
    "df_test_valid['traffic_index_imputed'] = np.select(conditions2, choices2,default=114.634286)"
   ]
  },
  {
   "cell_type": "code",
   "execution_count": 82,
   "metadata": {},
   "outputs": [],
   "source": [
    "df_test_valid.rename(columns={'quote_number': 'pol_number'}, inplace=True)"
   ]
  },
  {
   "cell_type": "code",
   "execution_count": 83,
   "metadata": {
    "collapsed": true
   },
   "outputs": [],
   "source": [
    "df_test_valid_V1 = df_test_valid.copy()"
   ]
  },
  {
   "cell_type": "markdown",
   "metadata": {},
   "source": [
    "#### One Hot Encoding on Test Data"
   ]
  },
  {
   "cell_type": "code",
   "execution_count": 84,
   "metadata": {
    "collapsed": true
   },
   "outputs": [],
   "source": [
    "#Function to Prepare the data\n",
    "\n",
    "def prep_data_test(df):\n",
    "    #Prepare the data\n",
    "    #Make Vehicle Value categorical\n",
    "    df['cat_veh_value'] = df['veh_value'].apply(lambda x:1 if x<=1 else 2 if x<=2 else 3 if x<=3 else 4 if x<=4 else 5)\n",
    "    df_dummy = df[['pol_number','credit_score_imp','traffic_index_imputed']].copy()\n",
    "    #Make dummy variables using Pandas\n",
    "    df_dummy = pd.concat([df_dummy,pd.get_dummies(df['veh_age'],prefix=\"veh_age\")],axis=1)\n",
    "    df_dummy = pd.concat([df_dummy,pd.get_dummies(df['agecat_imputed'],prefix=\"agecat_imputed\")],axis=1)\n",
    "    df_dummy = pd.concat([df_dummy,pd.get_dummies(df['veh_body'],prefix=\"veh_body\")],axis=1)\n",
    "    df_dummy = pd.concat([df_dummy,pd.get_dummies(df['gender'],prefix=\"gender\")],axis=1)\n",
    "    df_dummy = pd.concat([df_dummy,pd.get_dummies(df['area'],prefix=\"area\")],axis=1)\n",
    "    df_dummy = pd.concat([df_dummy,pd.get_dummies(df['cat_veh_value'],prefix=\"cat_veh_value\")],axis=1)\n",
    "    \n",
    "    return(df_dummy)"
   ]
  },
  {
   "cell_type": "code",
   "execution_count": 85,
   "metadata": {},
   "outputs": [],
   "source": [
    "X_test_final = prep_data_test(df_test_valid)"
   ]
  },
  {
   "cell_type": "code",
   "execution_count": 86,
   "metadata": {},
   "outputs": [],
   "source": [
    "X_test_final_V1 = X_test_final.copy()"
   ]
  },
  {
   "cell_type": "code",
   "execution_count": 87,
   "metadata": {},
   "outputs": [
    {
     "data": {
      "text/plain": [
       "Index(['pol_number', 'credit_score_imp', 'traffic_index_imputed', 'veh_age_1',\n",
       "       'veh_age_2', 'veh_age_3', 'veh_age_4', 'agecat_imputed_1',\n",
       "       'agecat_imputed_2', 'agecat_imputed_3', 'agecat_imputed_4',\n",
       "       'agecat_imputed_5', 'agecat_imputed_6', 'veh_body_BUS',\n",
       "       'veh_body_CONVT', 'veh_body_COUPE', 'veh_body_HBACK', 'veh_body_HDTOP',\n",
       "       'veh_body_MCARA', 'veh_body_MIBUS', 'veh_body_PANVN', 'veh_body_RDSTR',\n",
       "       'veh_body_SEDAN', 'veh_body_STNWG', 'veh_body_TRUCK', 'veh_body_UTE',\n",
       "       'gender_F', 'gender_M', 'area_A', 'area_B', 'area_C', 'area_D',\n",
       "       'area_E', 'area_F', 'cat_veh_value_1', 'cat_veh_value_2',\n",
       "       'cat_veh_value_3', 'cat_veh_value_4', 'cat_veh_value_5'],\n",
       "      dtype='object')"
      ]
     },
     "execution_count": 87,
     "metadata": {},
     "output_type": "execute_result"
    }
   ],
   "source": [
    "X_test_final.columns"
   ]
  },
  {
   "cell_type": "markdown",
   "metadata": {},
   "source": [
    "#### Inputting only improtant features before prediction"
   ]
  },
  {
   "cell_type": "code",
   "execution_count": 88,
   "metadata": {},
   "outputs": [],
   "source": [
    "colsV2 = ['pol_number','credit_score_imp','veh_age_1','veh_age_2','veh_age_4','agecat_imputed_1','agecat_imputed_2','agecat_imputed_3','agecat_imputed_4','agecat_imputed_5','veh_body_HBACK','veh_body_SEDAN','veh_body_UTE','veh_body_STNWG','gender_F','gender_M','area_C','area_D','area_E','area_F','cat_veh_value_1','cat_veh_value_3','cat_veh_value_4','cat_veh_value_5']\n",
    "X_test_final = X_test_final[colsV2]"
   ]
  },
  {
   "cell_type": "markdown",
   "metadata": {},
   "source": [
    "## Customers with a low probability of having any claims in 2018\n",
    "### Predicted_claim_count is 0"
   ]
  },
  {
   "cell_type": "code",
   "execution_count": 89,
   "metadata": {},
   "outputs": [],
   "source": [
    "\n",
    "#Create two additional columns for the individual probabilities of claim (prob1) and no-claim (prob0)\n",
    "X_test_final['prob0'] = np.zeros(len(X_test_final))\n",
    "X_test_final['prob1'] = np.zeros(len(X_test_final))\n",
    "\n",
    "n=10\n",
    "\n",
    "for i in range (0,n):\n",
    "\n",
    "    X_test_final[['prob0','prob1']] = X_test_final[['prob0','prob1']] + logmodel.predict_proba(X_test_final.drop(['pol_number','prob0','prob1'],axis=1))\n",
    "            \n",
    "        \n",
    "#Divide the log_proba and log_probb values by 10 to get the average log probabilities\n",
    "X_test_final['prob0']=X_test_final['prob0']/n\n",
    "X_test_final['prob1']=X_test_final['prob1']/n\n",
    "\n",
    "  \n",
    "#Check the metrics on training and test data\n",
    "logProb = 1\n",
    "temp = logProb > (X_test_final['prob0']/X_test_final['prob1'])\n",
    "X_test_final['predicted_claim_count']= [1 if (p==True) else 0 for p in temp]\n",
    "\n",
    "    \n",
    "#Calculate Claim Frequency for Test Set\n",
    "X_test_final['predicted_freq']= X_test_final['prob1'].divide(X_test_final['prob0'])\n",
    "X_test_final['predicted_freq']= X_test_final['predicted_freq'].apply(lambda x: x**3.65)\n",
    "\n"
   ]
  },
  {
   "cell_type": "code",
   "execution_count": 90,
   "metadata": {},
   "outputs": [],
   "source": [
    "X_test_final_V2 = X_test_final.copy()\n",
    "\n",
    "#Train only on the subset of positive claim counts\n",
    "X_test_final_regress = X_test_final[X_test_final['predicted_claim_count']>0].copy()"
   ]
  },
  {
   "cell_type": "markdown",
   "metadata": {},
   "source": [
    "## Customers with the lowest cost per claim in 2018, given that a claim occurs"
   ]
  },
  {
   "cell_type": "code",
   "execution_count": 91,
   "metadata": {},
   "outputs": [],
   "source": [
    "predict = glm.predict(X_test_final_regress.drop(['pol_number','predicted_claim_count','prob0','prob1','predicted_freq'],axis=1))\n",
    "X_test_final_regress['predicted_claim_cost']=[np.exp(p) for p in predict]\n",
    "#X_test_final_regress['predicted_claim_cost']=X_test_final_regress['predicted_claim_cost'].multiply(X_test_final_regress['predicted_freq'])   "
   ]
  },
  {
   "cell_type": "markdown",
   "metadata": {},
   "source": [
    "## Risk Profile Groups "
   ]
  },
  {
   "cell_type": "code",
   "execution_count": 92,
   "metadata": {},
   "outputs": [
    {
     "data": {
      "text/html": [
       "<div>\n",
       "<style>\n",
       "    .dataframe thead tr:only-child th {\n",
       "        text-align: right;\n",
       "    }\n",
       "\n",
       "    .dataframe thead th {\n",
       "        text-align: left;\n",
       "    }\n",
       "\n",
       "    .dataframe tbody tr th {\n",
       "        vertical-align: top;\n",
       "    }\n",
       "</style>\n",
       "<table border=\"1\" class=\"dataframe\">\n",
       "  <thead>\n",
       "    <tr style=\"text-align: right;\">\n",
       "      <th></th>\n",
       "      <th>pol_number</th>\n",
       "      <th>credit_score_imp</th>\n",
       "      <th>veh_age_1</th>\n",
       "      <th>veh_age_2</th>\n",
       "      <th>veh_age_4</th>\n",
       "      <th>agecat_imputed_1</th>\n",
       "      <th>agecat_imputed_2</th>\n",
       "      <th>agecat_imputed_3</th>\n",
       "      <th>agecat_imputed_4</th>\n",
       "      <th>agecat_imputed_5</th>\n",
       "      <th>...</th>\n",
       "      <th>area_F</th>\n",
       "      <th>cat_veh_value_1</th>\n",
       "      <th>cat_veh_value_3</th>\n",
       "      <th>cat_veh_value_4</th>\n",
       "      <th>cat_veh_value_5</th>\n",
       "      <th>prob0</th>\n",
       "      <th>prob1</th>\n",
       "      <th>predicted_claim_count</th>\n",
       "      <th>predicted_freq</th>\n",
       "      <th>predicted_claim_cost</th>\n",
       "    </tr>\n",
       "  </thead>\n",
       "  <tbody>\n",
       "    <tr>\n",
       "      <th>count</th>\n",
       "      <td>2.947000e+03</td>\n",
       "      <td>2947.000000</td>\n",
       "      <td>2947.000000</td>\n",
       "      <td>2947.000000</td>\n",
       "      <td>2947.000000</td>\n",
       "      <td>2947.000000</td>\n",
       "      <td>2947.000000</td>\n",
       "      <td>2947.000000</td>\n",
       "      <td>2947.000000</td>\n",
       "      <td>2947.000000</td>\n",
       "      <td>...</td>\n",
       "      <td>2947.000000</td>\n",
       "      <td>2947.000000</td>\n",
       "      <td>2947.000000</td>\n",
       "      <td>2947.000000</td>\n",
       "      <td>2947.000000</td>\n",
       "      <td>2947.000000</td>\n",
       "      <td>2947.000000</td>\n",
       "      <td>2947.0</td>\n",
       "      <td>2947.000000</td>\n",
       "      <td>2947.000000</td>\n",
       "    </tr>\n",
       "    <tr>\n",
       "      <th>mean</th>\n",
       "      <td>5.496991e+07</td>\n",
       "      <td>86.961674</td>\n",
       "      <td>0.188327</td>\n",
       "      <td>0.220224</td>\n",
       "      <td>0.317611</td>\n",
       "      <td>0.213437</td>\n",
       "      <td>0.228029</td>\n",
       "      <td>0.198846</td>\n",
       "      <td>0.178826</td>\n",
       "      <td>0.057007</td>\n",
       "      <td>...</td>\n",
       "      <td>0.068205</td>\n",
       "      <td>0.205972</td>\n",
       "      <td>0.216491</td>\n",
       "      <td>0.085171</td>\n",
       "      <td>0.093994</td>\n",
       "      <td>0.354981</td>\n",
       "      <td>0.645019</td>\n",
       "      <td>1.0</td>\n",
       "      <td>136.645614</td>\n",
       "      <td>2536.248075</td>\n",
       "    </tr>\n",
       "    <tr>\n",
       "      <th>std</th>\n",
       "      <td>2.596977e+07</td>\n",
       "      <td>6.401339</td>\n",
       "      <td>0.391040</td>\n",
       "      <td>0.414468</td>\n",
       "      <td>0.465626</td>\n",
       "      <td>0.409803</td>\n",
       "      <td>0.419632</td>\n",
       "      <td>0.399200</td>\n",
       "      <td>0.383272</td>\n",
       "      <td>0.231896</td>\n",
       "      <td>...</td>\n",
       "      <td>0.252140</td>\n",
       "      <td>0.404479</td>\n",
       "      <td>0.411923</td>\n",
       "      <td>0.279184</td>\n",
       "      <td>0.291870</td>\n",
       "      <td>0.098953</td>\n",
       "      <td>0.098953</td>\n",
       "      <td>0.0</td>\n",
       "      <td>768.821967</td>\n",
       "      <td>4790.210382</td>\n",
       "    </tr>\n",
       "    <tr>\n",
       "      <th>min</th>\n",
       "      <td>1.009346e+07</td>\n",
       "      <td>79.142032</td>\n",
       "      <td>0.000000</td>\n",
       "      <td>0.000000</td>\n",
       "      <td>0.000000</td>\n",
       "      <td>0.000000</td>\n",
       "      <td>0.000000</td>\n",
       "      <td>0.000000</td>\n",
       "      <td>0.000000</td>\n",
       "      <td>0.000000</td>\n",
       "      <td>...</td>\n",
       "      <td>0.000000</td>\n",
       "      <td>0.000000</td>\n",
       "      <td>0.000000</td>\n",
       "      <td>0.000000</td>\n",
       "      <td>0.000000</td>\n",
       "      <td>0.066360</td>\n",
       "      <td>0.500155</td>\n",
       "      <td>1.0</td>\n",
       "      <td>1.002266</td>\n",
       "      <td>234.888395</td>\n",
       "    </tr>\n",
       "    <tr>\n",
       "      <th>25%</th>\n",
       "      <td>3.211660e+07</td>\n",
       "      <td>81.574030</td>\n",
       "      <td>0.000000</td>\n",
       "      <td>0.000000</td>\n",
       "      <td>0.000000</td>\n",
       "      <td>0.000000</td>\n",
       "      <td>0.000000</td>\n",
       "      <td>0.000000</td>\n",
       "      <td>0.000000</td>\n",
       "      <td>0.000000</td>\n",
       "      <td>...</td>\n",
       "      <td>0.000000</td>\n",
       "      <td>0.000000</td>\n",
       "      <td>0.000000</td>\n",
       "      <td>0.000000</td>\n",
       "      <td>0.000000</td>\n",
       "      <td>0.294530</td>\n",
       "      <td>0.567303</td>\n",
       "      <td>1.0</td>\n",
       "      <td>2.687515</td>\n",
       "      <td>675.804195</td>\n",
       "    </tr>\n",
       "    <tr>\n",
       "      <th>50%</th>\n",
       "      <td>5.535833e+07</td>\n",
       "      <td>89.177859</td>\n",
       "      <td>0.000000</td>\n",
       "      <td>0.000000</td>\n",
       "      <td>0.000000</td>\n",
       "      <td>0.000000</td>\n",
       "      <td>0.000000</td>\n",
       "      <td>0.000000</td>\n",
       "      <td>0.000000</td>\n",
       "      <td>0.000000</td>\n",
       "      <td>...</td>\n",
       "      <td>0.000000</td>\n",
       "      <td>0.000000</td>\n",
       "      <td>0.000000</td>\n",
       "      <td>0.000000</td>\n",
       "      <td>0.000000</td>\n",
       "      <td>0.374126</td>\n",
       "      <td>0.625874</td>\n",
       "      <td>1.0</td>\n",
       "      <td>6.541221</td>\n",
       "      <td>1276.769349</td>\n",
       "    </tr>\n",
       "    <tr>\n",
       "      <th>75%</th>\n",
       "      <td>7.767625e+07</td>\n",
       "      <td>91.168652</td>\n",
       "      <td>0.000000</td>\n",
       "      <td>0.000000</td>\n",
       "      <td>1.000000</td>\n",
       "      <td>0.000000</td>\n",
       "      <td>0.000000</td>\n",
       "      <td>0.000000</td>\n",
       "      <td>0.000000</td>\n",
       "      <td>0.000000</td>\n",
       "      <td>...</td>\n",
       "      <td>0.000000</td>\n",
       "      <td>0.000000</td>\n",
       "      <td>0.000000</td>\n",
       "      <td>0.000000</td>\n",
       "      <td>0.000000</td>\n",
       "      <td>0.432697</td>\n",
       "      <td>0.705470</td>\n",
       "      <td>1.0</td>\n",
       "      <td>24.246056</td>\n",
       "      <td>2576.491287</td>\n",
       "    </tr>\n",
       "    <tr>\n",
       "      <th>max</th>\n",
       "      <td>9.997116e+07</td>\n",
       "      <td>100.000000</td>\n",
       "      <td>1.000000</td>\n",
       "      <td>1.000000</td>\n",
       "      <td>1.000000</td>\n",
       "      <td>1.000000</td>\n",
       "      <td>1.000000</td>\n",
       "      <td>1.000000</td>\n",
       "      <td>1.000000</td>\n",
       "      <td>1.000000</td>\n",
       "      <td>...</td>\n",
       "      <td>1.000000</td>\n",
       "      <td>1.000000</td>\n",
       "      <td>1.000000</td>\n",
       "      <td>1.000000</td>\n",
       "      <td>1.000000</td>\n",
       "      <td>0.499845</td>\n",
       "      <td>0.933640</td>\n",
       "      <td>1.0</td>\n",
       "      <td>15530.741371</td>\n",
       "      <td>142797.715332</td>\n",
       "    </tr>\n",
       "  </tbody>\n",
       "</table>\n",
       "<p>8 rows × 29 columns</p>\n",
       "</div>"
      ],
      "text/plain": [
       "         pol_number  credit_score_imp    veh_age_1    veh_age_2    veh_age_4  \\\n",
       "count  2.947000e+03       2947.000000  2947.000000  2947.000000  2947.000000   \n",
       "mean   5.496991e+07         86.961674     0.188327     0.220224     0.317611   \n",
       "std    2.596977e+07          6.401339     0.391040     0.414468     0.465626   \n",
       "min    1.009346e+07         79.142032     0.000000     0.000000     0.000000   \n",
       "25%    3.211660e+07         81.574030     0.000000     0.000000     0.000000   \n",
       "50%    5.535833e+07         89.177859     0.000000     0.000000     0.000000   \n",
       "75%    7.767625e+07         91.168652     0.000000     0.000000     1.000000   \n",
       "max    9.997116e+07        100.000000     1.000000     1.000000     1.000000   \n",
       "\n",
       "       agecat_imputed_1  agecat_imputed_2  agecat_imputed_3  agecat_imputed_4  \\\n",
       "count       2947.000000       2947.000000       2947.000000       2947.000000   \n",
       "mean           0.213437          0.228029          0.198846          0.178826   \n",
       "std            0.409803          0.419632          0.399200          0.383272   \n",
       "min            0.000000          0.000000          0.000000          0.000000   \n",
       "25%            0.000000          0.000000          0.000000          0.000000   \n",
       "50%            0.000000          0.000000          0.000000          0.000000   \n",
       "75%            0.000000          0.000000          0.000000          0.000000   \n",
       "max            1.000000          1.000000          1.000000          1.000000   \n",
       "\n",
       "       agecat_imputed_5          ...                area_F  cat_veh_value_1  \\\n",
       "count       2947.000000          ...           2947.000000      2947.000000   \n",
       "mean           0.057007          ...              0.068205         0.205972   \n",
       "std            0.231896          ...              0.252140         0.404479   \n",
       "min            0.000000          ...              0.000000         0.000000   \n",
       "25%            0.000000          ...              0.000000         0.000000   \n",
       "50%            0.000000          ...              0.000000         0.000000   \n",
       "75%            0.000000          ...              0.000000         0.000000   \n",
       "max            1.000000          ...              1.000000         1.000000   \n",
       "\n",
       "       cat_veh_value_3  cat_veh_value_4  cat_veh_value_5        prob0  \\\n",
       "count      2947.000000      2947.000000      2947.000000  2947.000000   \n",
       "mean          0.216491         0.085171         0.093994     0.354981   \n",
       "std           0.411923         0.279184         0.291870     0.098953   \n",
       "min           0.000000         0.000000         0.000000     0.066360   \n",
       "25%           0.000000         0.000000         0.000000     0.294530   \n",
       "50%           0.000000         0.000000         0.000000     0.374126   \n",
       "75%           0.000000         0.000000         0.000000     0.432697   \n",
       "max           1.000000         1.000000         1.000000     0.499845   \n",
       "\n",
       "             prob1  predicted_claim_count  predicted_freq  \\\n",
       "count  2947.000000                 2947.0     2947.000000   \n",
       "mean      0.645019                    1.0      136.645614   \n",
       "std       0.098953                    0.0      768.821967   \n",
       "min       0.500155                    1.0        1.002266   \n",
       "25%       0.567303                    1.0        2.687515   \n",
       "50%       0.625874                    1.0        6.541221   \n",
       "75%       0.705470                    1.0       24.246056   \n",
       "max       0.933640                    1.0    15530.741371   \n",
       "\n",
       "       predicted_claim_cost  \n",
       "count           2947.000000  \n",
       "mean            2536.248075  \n",
       "std             4790.210382  \n",
       "min              234.888395  \n",
       "25%              675.804195  \n",
       "50%             1276.769349  \n",
       "75%             2576.491287  \n",
       "max           142797.715332  \n",
       "\n",
       "[8 rows x 29 columns]"
      ]
     },
     "execution_count": 92,
     "metadata": {},
     "output_type": "execute_result"
    }
   ],
   "source": [
    "X_test_final_regress.describe()"
   ]
  },
  {
   "cell_type": "code",
   "execution_count": 93,
   "metadata": {
    "collapsed": true
   },
   "outputs": [],
   "source": [
    "df_final_stats = X_test_final_regress.describe()"
   ]
  },
  {
   "cell_type": "code",
   "execution_count": 94,
   "metadata": {},
   "outputs": [],
   "source": [
    "conditions_final = [\n",
    "    (X_test_final_regress['predicted_claim_cost'] <= 1000),\n",
    "    (X_test_final_regress['predicted_claim_cost'] > 1000) & (X_test_final_regress['predicted_claim_cost'] < 10000),\n",
    "    (X_test_final_regress['predicted_claim_cost'] >= 10000)]\n",
    "choices_final = [1,2,3]\n",
    "X_test_final_regress['risk_profile_groups'] = np.select(conditions_final,choices_final)"
   ]
  },
  {
   "cell_type": "code",
   "execution_count": 95,
   "metadata": {},
   "outputs": [],
   "source": [
    "X_test_final_regress_riskgrp1 = X_test_final_regress[X_test_final_regress.risk_profile_groups==1]"
   ]
  },
  {
   "cell_type": "code",
   "execution_count": 96,
   "metadata": {
    "collapsed": true
   },
   "outputs": [],
   "source": [
    "X_test_final_regress_riskgrp2 = X_test_final_regress[X_test_final_regress.risk_profile_groups==2]"
   ]
  },
  {
   "cell_type": "code",
   "execution_count": 97,
   "metadata": {
    "collapsed": true
   },
   "outputs": [],
   "source": [
    "X_test_final_regress_riskgrp3 = X_test_final_regress[X_test_final_regress.risk_profile_groups==3]"
   ]
  },
  {
   "cell_type": "code",
   "execution_count": 98,
   "metadata": {},
   "outputs": [
    {
     "data": {
      "text/html": [
       "<div>\n",
       "<style>\n",
       "    .dataframe thead tr:only-child th {\n",
       "        text-align: right;\n",
       "    }\n",
       "\n",
       "    .dataframe thead th {\n",
       "        text-align: left;\n",
       "    }\n",
       "\n",
       "    .dataframe tbody tr th {\n",
       "        vertical-align: top;\n",
       "    }\n",
       "</style>\n",
       "<table border=\"1\" class=\"dataframe\">\n",
       "  <thead>\n",
       "    <tr style=\"text-align: right;\">\n",
       "      <th></th>\n",
       "      <th>pol_number</th>\n",
       "      <th>credit_score_imp</th>\n",
       "      <th>veh_age_1</th>\n",
       "      <th>veh_age_2</th>\n",
       "      <th>veh_age_4</th>\n",
       "      <th>agecat_imputed_1</th>\n",
       "      <th>agecat_imputed_2</th>\n",
       "      <th>agecat_imputed_3</th>\n",
       "      <th>agecat_imputed_4</th>\n",
       "      <th>agecat_imputed_5</th>\n",
       "      <th>...</th>\n",
       "      <th>cat_veh_value_1</th>\n",
       "      <th>cat_veh_value_3</th>\n",
       "      <th>cat_veh_value_4</th>\n",
       "      <th>cat_veh_value_5</th>\n",
       "      <th>prob0</th>\n",
       "      <th>prob1</th>\n",
       "      <th>predicted_claim_count</th>\n",
       "      <th>predicted_freq</th>\n",
       "      <th>predicted_claim_cost</th>\n",
       "      <th>risk_profile_groups</th>\n",
       "    </tr>\n",
       "  </thead>\n",
       "  <tbody>\n",
       "    <tr>\n",
       "      <th>count</th>\n",
       "      <td>1.173000e+03</td>\n",
       "      <td>1173.000000</td>\n",
       "      <td>1173.0</td>\n",
       "      <td>1173.000000</td>\n",
       "      <td>1173.000000</td>\n",
       "      <td>1173.000000</td>\n",
       "      <td>1173.000000</td>\n",
       "      <td>1173.000000</td>\n",
       "      <td>1173.000000</td>\n",
       "      <td>1173.000000</td>\n",
       "      <td>...</td>\n",
       "      <td>1173.000000</td>\n",
       "      <td>1173.000000</td>\n",
       "      <td>1173.000000</td>\n",
       "      <td>1173.000000</td>\n",
       "      <td>1173.000000</td>\n",
       "      <td>1173.000000</td>\n",
       "      <td>1173.0</td>\n",
       "      <td>1173.000000</td>\n",
       "      <td>1173.000000</td>\n",
       "      <td>1173.0</td>\n",
       "    </tr>\n",
       "    <tr>\n",
       "      <th>mean</th>\n",
       "      <td>5.427818e+07</td>\n",
       "      <td>88.316455</td>\n",
       "      <td>0.0</td>\n",
       "      <td>0.119352</td>\n",
       "      <td>0.582268</td>\n",
       "      <td>0.082694</td>\n",
       "      <td>0.196931</td>\n",
       "      <td>0.329923</td>\n",
       "      <td>0.299233</td>\n",
       "      <td>0.069054</td>\n",
       "      <td>...</td>\n",
       "      <td>0.387894</td>\n",
       "      <td>0.154305</td>\n",
       "      <td>0.035806</td>\n",
       "      <td>0.006820</td>\n",
       "      <td>0.374424</td>\n",
       "      <td>0.625576</td>\n",
       "      <td>1.0</td>\n",
       "      <td>62.845956</td>\n",
       "      <td>599.495267</td>\n",
       "      <td>1.0</td>\n",
       "    </tr>\n",
       "    <tr>\n",
       "      <th>std</th>\n",
       "      <td>2.572378e+07</td>\n",
       "      <td>5.380759</td>\n",
       "      <td>0.0</td>\n",
       "      <td>0.324341</td>\n",
       "      <td>0.493396</td>\n",
       "      <td>0.275537</td>\n",
       "      <td>0.397849</td>\n",
       "      <td>0.470386</td>\n",
       "      <td>0.458117</td>\n",
       "      <td>0.253654</td>\n",
       "      <td>...</td>\n",
       "      <td>0.487478</td>\n",
       "      <td>0.361395</td>\n",
       "      <td>0.185884</td>\n",
       "      <td>0.082337</td>\n",
       "      <td>0.090664</td>\n",
       "      <td>0.090664</td>\n",
       "      <td>0.0</td>\n",
       "      <td>279.782916</td>\n",
       "      <td>203.249216</td>\n",
       "      <td>0.0</td>\n",
       "    </tr>\n",
       "    <tr>\n",
       "      <th>min</th>\n",
       "      <td>1.031372e+07</td>\n",
       "      <td>79.142032</td>\n",
       "      <td>0.0</td>\n",
       "      <td>0.000000</td>\n",
       "      <td>0.000000</td>\n",
       "      <td>0.000000</td>\n",
       "      <td>0.000000</td>\n",
       "      <td>0.000000</td>\n",
       "      <td>0.000000</td>\n",
       "      <td>0.000000</td>\n",
       "      <td>...</td>\n",
       "      <td>0.000000</td>\n",
       "      <td>0.000000</td>\n",
       "      <td>0.000000</td>\n",
       "      <td>0.000000</td>\n",
       "      <td>0.103011</td>\n",
       "      <td>0.500155</td>\n",
       "      <td>1.0</td>\n",
       "      <td>1.002266</td>\n",
       "      <td>234.888395</td>\n",
       "      <td>1.0</td>\n",
       "    </tr>\n",
       "    <tr>\n",
       "      <th>25%</th>\n",
       "      <td>3.176463e+07</td>\n",
       "      <td>81.574030</td>\n",
       "      <td>0.0</td>\n",
       "      <td>0.000000</td>\n",
       "      <td>0.000000</td>\n",
       "      <td>0.000000</td>\n",
       "      <td>0.000000</td>\n",
       "      <td>0.000000</td>\n",
       "      <td>0.000000</td>\n",
       "      <td>0.000000</td>\n",
       "      <td>...</td>\n",
       "      <td>0.000000</td>\n",
       "      <td>0.000000</td>\n",
       "      <td>0.000000</td>\n",
       "      <td>0.000000</td>\n",
       "      <td>0.309238</td>\n",
       "      <td>0.557064</td>\n",
       "      <td>1.0</td>\n",
       "      <td>2.308915</td>\n",
       "      <td>422.905623</td>\n",
       "      <td>1.0</td>\n",
       "    </tr>\n",
       "    <tr>\n",
       "      <th>50%</th>\n",
       "      <td>5.345764e+07</td>\n",
       "      <td>89.177859</td>\n",
       "      <td>0.0</td>\n",
       "      <td>0.000000</td>\n",
       "      <td>1.000000</td>\n",
       "      <td>0.000000</td>\n",
       "      <td>0.000000</td>\n",
       "      <td>0.000000</td>\n",
       "      <td>0.000000</td>\n",
       "      <td>0.000000</td>\n",
       "      <td>...</td>\n",
       "      <td>0.000000</td>\n",
       "      <td>0.000000</td>\n",
       "      <td>0.000000</td>\n",
       "      <td>0.000000</td>\n",
       "      <td>0.395119</td>\n",
       "      <td>0.604881</td>\n",
       "      <td>1.0</td>\n",
       "      <td>4.731947</td>\n",
       "      <td>573.702127</td>\n",
       "      <td>1.0</td>\n",
       "    </tr>\n",
       "    <tr>\n",
       "      <th>75%</th>\n",
       "      <td>7.650403e+07</td>\n",
       "      <td>91.168652</td>\n",
       "      <td>0.0</td>\n",
       "      <td>0.000000</td>\n",
       "      <td>1.000000</td>\n",
       "      <td>0.000000</td>\n",
       "      <td>0.000000</td>\n",
       "      <td>1.000000</td>\n",
       "      <td>1.000000</td>\n",
       "      <td>0.000000</td>\n",
       "      <td>...</td>\n",
       "      <td>1.000000</td>\n",
       "      <td>0.000000</td>\n",
       "      <td>0.000000</td>\n",
       "      <td>0.000000</td>\n",
       "      <td>0.442936</td>\n",
       "      <td>0.690762</td>\n",
       "      <td>1.0</td>\n",
       "      <td>18.792154</td>\n",
       "      <td>767.676133</td>\n",
       "      <td>1.0</td>\n",
       "    </tr>\n",
       "    <tr>\n",
       "      <th>max</th>\n",
       "      <td>9.984322e+07</td>\n",
       "      <td>100.000000</td>\n",
       "      <td>0.0</td>\n",
       "      <td>1.000000</td>\n",
       "      <td>1.000000</td>\n",
       "      <td>1.000000</td>\n",
       "      <td>1.000000</td>\n",
       "      <td>1.000000</td>\n",
       "      <td>1.000000</td>\n",
       "      <td>1.000000</td>\n",
       "      <td>...</td>\n",
       "      <td>1.000000</td>\n",
       "      <td>1.000000</td>\n",
       "      <td>1.000000</td>\n",
       "      <td>1.000000</td>\n",
       "      <td>0.499845</td>\n",
       "      <td>0.896989</td>\n",
       "      <td>1.0</td>\n",
       "      <td>2695.565231</td>\n",
       "      <td>991.336493</td>\n",
       "      <td>1.0</td>\n",
       "    </tr>\n",
       "  </tbody>\n",
       "</table>\n",
       "<p>8 rows × 30 columns</p>\n",
       "</div>"
      ],
      "text/plain": [
       "         pol_number  credit_score_imp  veh_age_1    veh_age_2    veh_age_4  \\\n",
       "count  1.173000e+03       1173.000000     1173.0  1173.000000  1173.000000   \n",
       "mean   5.427818e+07         88.316455        0.0     0.119352     0.582268   \n",
       "std    2.572378e+07          5.380759        0.0     0.324341     0.493396   \n",
       "min    1.031372e+07         79.142032        0.0     0.000000     0.000000   \n",
       "25%    3.176463e+07         81.574030        0.0     0.000000     0.000000   \n",
       "50%    5.345764e+07         89.177859        0.0     0.000000     1.000000   \n",
       "75%    7.650403e+07         91.168652        0.0     0.000000     1.000000   \n",
       "max    9.984322e+07        100.000000        0.0     1.000000     1.000000   \n",
       "\n",
       "       agecat_imputed_1  agecat_imputed_2  agecat_imputed_3  agecat_imputed_4  \\\n",
       "count       1173.000000       1173.000000       1173.000000       1173.000000   \n",
       "mean           0.082694          0.196931          0.329923          0.299233   \n",
       "std            0.275537          0.397849          0.470386          0.458117   \n",
       "min            0.000000          0.000000          0.000000          0.000000   \n",
       "25%            0.000000          0.000000          0.000000          0.000000   \n",
       "50%            0.000000          0.000000          0.000000          0.000000   \n",
       "75%            0.000000          0.000000          1.000000          1.000000   \n",
       "max            1.000000          1.000000          1.000000          1.000000   \n",
       "\n",
       "       agecat_imputed_5         ...           cat_veh_value_1  \\\n",
       "count       1173.000000         ...               1173.000000   \n",
       "mean           0.069054         ...                  0.387894   \n",
       "std            0.253654         ...                  0.487478   \n",
       "min            0.000000         ...                  0.000000   \n",
       "25%            0.000000         ...                  0.000000   \n",
       "50%            0.000000         ...                  0.000000   \n",
       "75%            0.000000         ...                  1.000000   \n",
       "max            1.000000         ...                  1.000000   \n",
       "\n",
       "       cat_veh_value_3  cat_veh_value_4  cat_veh_value_5        prob0  \\\n",
       "count      1173.000000      1173.000000      1173.000000  1173.000000   \n",
       "mean          0.154305         0.035806         0.006820     0.374424   \n",
       "std           0.361395         0.185884         0.082337     0.090664   \n",
       "min           0.000000         0.000000         0.000000     0.103011   \n",
       "25%           0.000000         0.000000         0.000000     0.309238   \n",
       "50%           0.000000         0.000000         0.000000     0.395119   \n",
       "75%           0.000000         0.000000         0.000000     0.442936   \n",
       "max           1.000000         1.000000         1.000000     0.499845   \n",
       "\n",
       "             prob1  predicted_claim_count  predicted_freq  \\\n",
       "count  1173.000000                 1173.0     1173.000000   \n",
       "mean      0.625576                    1.0       62.845956   \n",
       "std       0.090664                    0.0      279.782916   \n",
       "min       0.500155                    1.0        1.002266   \n",
       "25%       0.557064                    1.0        2.308915   \n",
       "50%       0.604881                    1.0        4.731947   \n",
       "75%       0.690762                    1.0       18.792154   \n",
       "max       0.896989                    1.0     2695.565231   \n",
       "\n",
       "       predicted_claim_cost  risk_profile_groups  \n",
       "count           1173.000000               1173.0  \n",
       "mean             599.495267                  1.0  \n",
       "std              203.249216                  0.0  \n",
       "min              234.888395                  1.0  \n",
       "25%              422.905623                  1.0  \n",
       "50%              573.702127                  1.0  \n",
       "75%              767.676133                  1.0  \n",
       "max              991.336493                  1.0  \n",
       "\n",
       "[8 rows x 30 columns]"
      ]
     },
     "execution_count": 98,
     "metadata": {},
     "output_type": "execute_result"
    }
   ],
   "source": [
    "X_test_final_regress_riskgrp1.describe()"
   ]
  },
  {
   "cell_type": "code",
   "execution_count": 99,
   "metadata": {
    "collapsed": true
   },
   "outputs": [],
   "source": [
    "riskprof1_stats=X_test_final_regress_riskgrp1.describe()"
   ]
  },
  {
   "cell_type": "code",
   "execution_count": 100,
   "metadata": {},
   "outputs": [
    {
     "data": {
      "text/html": [
       "<div>\n",
       "<style>\n",
       "    .dataframe thead tr:only-child th {\n",
       "        text-align: right;\n",
       "    }\n",
       "\n",
       "    .dataframe thead th {\n",
       "        text-align: left;\n",
       "    }\n",
       "\n",
       "    .dataframe tbody tr th {\n",
       "        vertical-align: top;\n",
       "    }\n",
       "</style>\n",
       "<table border=\"1\" class=\"dataframe\">\n",
       "  <thead>\n",
       "    <tr style=\"text-align: right;\">\n",
       "      <th></th>\n",
       "      <th>pol_number</th>\n",
       "      <th>credit_score_imp</th>\n",
       "      <th>veh_age_1</th>\n",
       "      <th>veh_age_2</th>\n",
       "      <th>veh_age_4</th>\n",
       "      <th>agecat_imputed_1</th>\n",
       "      <th>agecat_imputed_2</th>\n",
       "      <th>agecat_imputed_3</th>\n",
       "      <th>agecat_imputed_4</th>\n",
       "      <th>agecat_imputed_5</th>\n",
       "      <th>...</th>\n",
       "      <th>cat_veh_value_1</th>\n",
       "      <th>cat_veh_value_3</th>\n",
       "      <th>cat_veh_value_4</th>\n",
       "      <th>cat_veh_value_5</th>\n",
       "      <th>prob0</th>\n",
       "      <th>prob1</th>\n",
       "      <th>predicted_claim_count</th>\n",
       "      <th>predicted_freq</th>\n",
       "      <th>predicted_claim_cost</th>\n",
       "      <th>risk_profile_groups</th>\n",
       "    </tr>\n",
       "  </thead>\n",
       "  <tbody>\n",
       "    <tr>\n",
       "      <th>count</th>\n",
       "      <td>1.653000e+03</td>\n",
       "      <td>1653.000000</td>\n",
       "      <td>1653.000000</td>\n",
       "      <td>1653.000000</td>\n",
       "      <td>1653.000000</td>\n",
       "      <td>1653.000000</td>\n",
       "      <td>1653.000000</td>\n",
       "      <td>1653.000000</td>\n",
       "      <td>1653.000000</td>\n",
       "      <td>1653.000000</td>\n",
       "      <td>...</td>\n",
       "      <td>1653.000000</td>\n",
       "      <td>1653.000000</td>\n",
       "      <td>1653.000000</td>\n",
       "      <td>1653.000000</td>\n",
       "      <td>1653.000000</td>\n",
       "      <td>1653.000000</td>\n",
       "      <td>1653.0</td>\n",
       "      <td>1653.000000</td>\n",
       "      <td>1653.000000</td>\n",
       "      <td>1653.0</td>\n",
       "    </tr>\n",
       "    <tr>\n",
       "      <th>mean</th>\n",
       "      <td>5.543672e+07</td>\n",
       "      <td>86.059983</td>\n",
       "      <td>0.270417</td>\n",
       "      <td>0.303085</td>\n",
       "      <td>0.153055</td>\n",
       "      <td>0.289776</td>\n",
       "      <td>0.257713</td>\n",
       "      <td>0.119177</td>\n",
       "      <td>0.104053</td>\n",
       "      <td>0.051422</td>\n",
       "      <td>...</td>\n",
       "      <td>0.091954</td>\n",
       "      <td>0.256503</td>\n",
       "      <td>0.103448</td>\n",
       "      <td>0.136116</td>\n",
       "      <td>0.343986</td>\n",
       "      <td>0.656014</td>\n",
       "      <td>1.0</td>\n",
       "      <td>158.162906</td>\n",
       "      <td>2732.386661</td>\n",
       "      <td>2.0</td>\n",
       "    </tr>\n",
       "    <tr>\n",
       "      <th>std</th>\n",
       "      <td>2.601978e+07</td>\n",
       "      <td>6.804156</td>\n",
       "      <td>0.444310</td>\n",
       "      <td>0.459731</td>\n",
       "      <td>0.360150</td>\n",
       "      <td>0.453796</td>\n",
       "      <td>0.437508</td>\n",
       "      <td>0.324095</td>\n",
       "      <td>0.305422</td>\n",
       "      <td>0.220923</td>\n",
       "      <td>...</td>\n",
       "      <td>0.289048</td>\n",
       "      <td>0.436835</td>\n",
       "      <td>0.304636</td>\n",
       "      <td>0.343016</td>\n",
       "      <td>0.100265</td>\n",
       "      <td>0.100265</td>\n",
       "      <td>0.0</td>\n",
       "      <td>830.527957</td>\n",
       "      <td>1865.096725</td>\n",
       "      <td>0.0</td>\n",
       "    </tr>\n",
       "    <tr>\n",
       "      <th>min</th>\n",
       "      <td>1.009346e+07</td>\n",
       "      <td>79.142032</td>\n",
       "      <td>0.000000</td>\n",
       "      <td>0.000000</td>\n",
       "      <td>0.000000</td>\n",
       "      <td>0.000000</td>\n",
       "      <td>0.000000</td>\n",
       "      <td>0.000000</td>\n",
       "      <td>0.000000</td>\n",
       "      <td>0.000000</td>\n",
       "      <td>...</td>\n",
       "      <td>0.000000</td>\n",
       "      <td>0.000000</td>\n",
       "      <td>0.000000</td>\n",
       "      <td>0.000000</td>\n",
       "      <td>0.066423</td>\n",
       "      <td>0.501857</td>\n",
       "      <td>1.0</td>\n",
       "      <td>1.027479</td>\n",
       "      <td>1002.727364</td>\n",
       "      <td>2.0</td>\n",
       "    </tr>\n",
       "    <tr>\n",
       "      <th>25%</th>\n",
       "      <td>3.238024e+07</td>\n",
       "      <td>79.142032</td>\n",
       "      <td>0.000000</td>\n",
       "      <td>0.000000</td>\n",
       "      <td>0.000000</td>\n",
       "      <td>0.000000</td>\n",
       "      <td>0.000000</td>\n",
       "      <td>0.000000</td>\n",
       "      <td>0.000000</td>\n",
       "      <td>0.000000</td>\n",
       "      <td>...</td>\n",
       "      <td>0.000000</td>\n",
       "      <td>0.000000</td>\n",
       "      <td>0.000000</td>\n",
       "      <td>0.000000</td>\n",
       "      <td>0.286418</td>\n",
       "      <td>0.575968</td>\n",
       "      <td>1.0</td>\n",
       "      <td>3.058059</td>\n",
       "      <td>1408.264283</td>\n",
       "      <td>2.0</td>\n",
       "    </tr>\n",
       "    <tr>\n",
       "      <th>50%</th>\n",
       "      <td>5.652248e+07</td>\n",
       "      <td>81.574030</td>\n",
       "      <td>0.000000</td>\n",
       "      <td>0.000000</td>\n",
       "      <td>0.000000</td>\n",
       "      <td>0.000000</td>\n",
       "      <td>0.000000</td>\n",
       "      <td>0.000000</td>\n",
       "      <td>0.000000</td>\n",
       "      <td>0.000000</td>\n",
       "      <td>...</td>\n",
       "      <td>0.000000</td>\n",
       "      <td>0.000000</td>\n",
       "      <td>0.000000</td>\n",
       "      <td>0.000000</td>\n",
       "      <td>0.361798</td>\n",
       "      <td>0.638202</td>\n",
       "      <td>1.0</td>\n",
       "      <td>7.937693</td>\n",
       "      <td>2065.122857</td>\n",
       "      <td>2.0</td>\n",
       "    </tr>\n",
       "    <tr>\n",
       "      <th>75%</th>\n",
       "      <td>7.847139e+07</td>\n",
       "      <td>91.168652</td>\n",
       "      <td>1.000000</td>\n",
       "      <td>1.000000</td>\n",
       "      <td>0.000000</td>\n",
       "      <td>1.000000</td>\n",
       "      <td>1.000000</td>\n",
       "      <td>0.000000</td>\n",
       "      <td>0.000000</td>\n",
       "      <td>0.000000</td>\n",
       "      <td>...</td>\n",
       "      <td>0.000000</td>\n",
       "      <td>1.000000</td>\n",
       "      <td>0.000000</td>\n",
       "      <td>0.000000</td>\n",
       "      <td>0.424032</td>\n",
       "      <td>0.713582</td>\n",
       "      <td>1.0</td>\n",
       "      <td>27.991281</td>\n",
       "      <td>3336.750093</td>\n",
       "      <td>2.0</td>\n",
       "    </tr>\n",
       "    <tr>\n",
       "      <th>max</th>\n",
       "      <td>9.997116e+07</td>\n",
       "      <td>100.000000</td>\n",
       "      <td>1.000000</td>\n",
       "      <td>1.000000</td>\n",
       "      <td>1.000000</td>\n",
       "      <td>1.000000</td>\n",
       "      <td>1.000000</td>\n",
       "      <td>1.000000</td>\n",
       "      <td>1.000000</td>\n",
       "      <td>1.000000</td>\n",
       "      <td>...</td>\n",
       "      <td>1.000000</td>\n",
       "      <td>1.000000</td>\n",
       "      <td>1.000000</td>\n",
       "      <td>1.000000</td>\n",
       "      <td>0.498143</td>\n",
       "      <td>0.933577</td>\n",
       "      <td>1.0</td>\n",
       "      <td>15472.991576</td>\n",
       "      <td>9918.436214</td>\n",
       "      <td>2.0</td>\n",
       "    </tr>\n",
       "  </tbody>\n",
       "</table>\n",
       "<p>8 rows × 30 columns</p>\n",
       "</div>"
      ],
      "text/plain": [
       "         pol_number  credit_score_imp    veh_age_1    veh_age_2    veh_age_4  \\\n",
       "count  1.653000e+03       1653.000000  1653.000000  1653.000000  1653.000000   \n",
       "mean   5.543672e+07         86.059983     0.270417     0.303085     0.153055   \n",
       "std    2.601978e+07          6.804156     0.444310     0.459731     0.360150   \n",
       "min    1.009346e+07         79.142032     0.000000     0.000000     0.000000   \n",
       "25%    3.238024e+07         79.142032     0.000000     0.000000     0.000000   \n",
       "50%    5.652248e+07         81.574030     0.000000     0.000000     0.000000   \n",
       "75%    7.847139e+07         91.168652     1.000000     1.000000     0.000000   \n",
       "max    9.997116e+07        100.000000     1.000000     1.000000     1.000000   \n",
       "\n",
       "       agecat_imputed_1  agecat_imputed_2  agecat_imputed_3  agecat_imputed_4  \\\n",
       "count       1653.000000       1653.000000       1653.000000       1653.000000   \n",
       "mean           0.289776          0.257713          0.119177          0.104053   \n",
       "std            0.453796          0.437508          0.324095          0.305422   \n",
       "min            0.000000          0.000000          0.000000          0.000000   \n",
       "25%            0.000000          0.000000          0.000000          0.000000   \n",
       "50%            0.000000          0.000000          0.000000          0.000000   \n",
       "75%            1.000000          1.000000          0.000000          0.000000   \n",
       "max            1.000000          1.000000          1.000000          1.000000   \n",
       "\n",
       "       agecat_imputed_5         ...           cat_veh_value_1  \\\n",
       "count       1653.000000         ...               1653.000000   \n",
       "mean           0.051422         ...                  0.091954   \n",
       "std            0.220923         ...                  0.289048   \n",
       "min            0.000000         ...                  0.000000   \n",
       "25%            0.000000         ...                  0.000000   \n",
       "50%            0.000000         ...                  0.000000   \n",
       "75%            0.000000         ...                  0.000000   \n",
       "max            1.000000         ...                  1.000000   \n",
       "\n",
       "       cat_veh_value_3  cat_veh_value_4  cat_veh_value_5        prob0  \\\n",
       "count      1653.000000      1653.000000      1653.000000  1653.000000   \n",
       "mean          0.256503         0.103448         0.136116     0.343986   \n",
       "std           0.436835         0.304636         0.343016     0.100265   \n",
       "min           0.000000         0.000000         0.000000     0.066423   \n",
       "25%           0.000000         0.000000         0.000000     0.286418   \n",
       "50%           0.000000         0.000000         0.000000     0.361798   \n",
       "75%           1.000000         0.000000         0.000000     0.424032   \n",
       "max           1.000000         1.000000         1.000000     0.498143   \n",
       "\n",
       "             prob1  predicted_claim_count  predicted_freq  \\\n",
       "count  1653.000000                 1653.0     1653.000000   \n",
       "mean      0.656014                    1.0      158.162906   \n",
       "std       0.100265                    0.0      830.527957   \n",
       "min       0.501857                    1.0        1.027479   \n",
       "25%       0.575968                    1.0        3.058059   \n",
       "50%       0.638202                    1.0        7.937693   \n",
       "75%       0.713582                    1.0       27.991281   \n",
       "max       0.933577                    1.0    15472.991576   \n",
       "\n",
       "       predicted_claim_cost  risk_profile_groups  \n",
       "count           1653.000000               1653.0  \n",
       "mean            2732.386661                  2.0  \n",
       "std             1865.096725                  0.0  \n",
       "min             1002.727364                  2.0  \n",
       "25%             1408.264283                  2.0  \n",
       "50%             2065.122857                  2.0  \n",
       "75%             3336.750093                  2.0  \n",
       "max             9918.436214                  2.0  \n",
       "\n",
       "[8 rows x 30 columns]"
      ]
     },
     "execution_count": 100,
     "metadata": {},
     "output_type": "execute_result"
    }
   ],
   "source": [
    "X_test_final_regress_riskgrp2.describe()"
   ]
  },
  {
   "cell_type": "code",
   "execution_count": 101,
   "metadata": {
    "collapsed": true
   },
   "outputs": [],
   "source": [
    "riskprof2_stats=X_test_final_regress_riskgrp2.describe()"
   ]
  },
  {
   "cell_type": "code",
   "execution_count": 102,
   "metadata": {},
   "outputs": [
    {
     "data": {
      "text/html": [
       "<div>\n",
       "<style>\n",
       "    .dataframe thead tr:only-child th {\n",
       "        text-align: right;\n",
       "    }\n",
       "\n",
       "    .dataframe thead th {\n",
       "        text-align: left;\n",
       "    }\n",
       "\n",
       "    .dataframe tbody tr th {\n",
       "        vertical-align: top;\n",
       "    }\n",
       "</style>\n",
       "<table border=\"1\" class=\"dataframe\">\n",
       "  <thead>\n",
       "    <tr style=\"text-align: right;\">\n",
       "      <th></th>\n",
       "      <th>pol_number</th>\n",
       "      <th>credit_score_imp</th>\n",
       "      <th>veh_age_1</th>\n",
       "      <th>veh_age_2</th>\n",
       "      <th>veh_age_4</th>\n",
       "      <th>agecat_imputed_1</th>\n",
       "      <th>agecat_imputed_2</th>\n",
       "      <th>agecat_imputed_3</th>\n",
       "      <th>agecat_imputed_4</th>\n",
       "      <th>agecat_imputed_5</th>\n",
       "      <th>...</th>\n",
       "      <th>cat_veh_value_1</th>\n",
       "      <th>cat_veh_value_3</th>\n",
       "      <th>cat_veh_value_4</th>\n",
       "      <th>cat_veh_value_5</th>\n",
       "      <th>prob0</th>\n",
       "      <th>prob1</th>\n",
       "      <th>predicted_claim_count</th>\n",
       "      <th>predicted_freq</th>\n",
       "      <th>predicted_claim_cost</th>\n",
       "      <th>risk_profile_groups</th>\n",
       "    </tr>\n",
       "  </thead>\n",
       "  <tbody>\n",
       "    <tr>\n",
       "      <th>count</th>\n",
       "      <td>1.210000e+02</td>\n",
       "      <td>121.000000</td>\n",
       "      <td>121.000000</td>\n",
       "      <td>121.000000</td>\n",
       "      <td>121.0</td>\n",
       "      <td>121.000000</td>\n",
       "      <td>121.000000</td>\n",
       "      <td>121.000000</td>\n",
       "      <td>121.000000</td>\n",
       "      <td>121.000000</td>\n",
       "      <td>...</td>\n",
       "      <td>121.0</td>\n",
       "      <td>121.000000</td>\n",
       "      <td>121.000000</td>\n",
       "      <td>121.000000</td>\n",
       "      <td>121.000000</td>\n",
       "      <td>121.000000</td>\n",
       "      <td>121.0</td>\n",
       "      <td>121.000000</td>\n",
       "      <td>121.000000</td>\n",
       "      <td>121.0</td>\n",
       "    </tr>\n",
       "    <tr>\n",
       "      <th>mean</th>\n",
       "      <td>5.529849e+07</td>\n",
       "      <td>86.146275</td>\n",
       "      <td>0.892562</td>\n",
       "      <td>0.066116</td>\n",
       "      <td>0.0</td>\n",
       "      <td>0.438017</td>\n",
       "      <td>0.123967</td>\n",
       "      <td>0.016529</td>\n",
       "      <td>0.033058</td>\n",
       "      <td>0.016529</td>\n",
       "      <td>...</td>\n",
       "      <td>0.0</td>\n",
       "      <td>0.272727</td>\n",
       "      <td>0.314050</td>\n",
       "      <td>0.363636</td>\n",
       "      <td>0.316697</td>\n",
       "      <td>0.683303</td>\n",
       "      <td>1.0</td>\n",
       "      <td>558.124253</td>\n",
       "      <td>18632.065941</td>\n",
       "      <td>3.0</td>\n",
       "    </tr>\n",
       "    <tr>\n",
       "      <th>std</th>\n",
       "      <td>2.768185e+07</td>\n",
       "      <td>7.487210</td>\n",
       "      <td>0.310957</td>\n",
       "      <td>0.249517</td>\n",
       "      <td>0.0</td>\n",
       "      <td>0.498206</td>\n",
       "      <td>0.330914</td>\n",
       "      <td>0.128028</td>\n",
       "      <td>0.179531</td>\n",
       "      <td>0.128028</td>\n",
       "      <td>...</td>\n",
       "      <td>0.0</td>\n",
       "      <td>0.447214</td>\n",
       "      <td>0.466066</td>\n",
       "      <td>0.483046</td>\n",
       "      <td>0.121937</td>\n",
       "      <td>0.121937</td>\n",
       "      <td>0.0</td>\n",
       "      <td>2002.998959</td>\n",
       "      <td>14717.498474</td>\n",
       "      <td>0.0</td>\n",
       "    </tr>\n",
       "    <tr>\n",
       "      <th>min</th>\n",
       "      <td>1.085354e+07</td>\n",
       "      <td>79.142032</td>\n",
       "      <td>0.000000</td>\n",
       "      <td>0.000000</td>\n",
       "      <td>0.0</td>\n",
       "      <td>0.000000</td>\n",
       "      <td>0.000000</td>\n",
       "      <td>0.000000</td>\n",
       "      <td>0.000000</td>\n",
       "      <td>0.000000</td>\n",
       "      <td>...</td>\n",
       "      <td>0.0</td>\n",
       "      <td>0.000000</td>\n",
       "      <td>0.000000</td>\n",
       "      <td>0.000000</td>\n",
       "      <td>0.066360</td>\n",
       "      <td>0.500324</td>\n",
       "      <td>1.0</td>\n",
       "      <td>1.004738</td>\n",
       "      <td>10017.995749</td>\n",
       "      <td>3.0</td>\n",
       "    </tr>\n",
       "    <tr>\n",
       "      <th>25%</th>\n",
       "      <td>3.281682e+07</td>\n",
       "      <td>79.142032</td>\n",
       "      <td>1.000000</td>\n",
       "      <td>0.000000</td>\n",
       "      <td>0.0</td>\n",
       "      <td>0.000000</td>\n",
       "      <td>0.000000</td>\n",
       "      <td>0.000000</td>\n",
       "      <td>0.000000</td>\n",
       "      <td>0.000000</td>\n",
       "      <td>...</td>\n",
       "      <td>0.0</td>\n",
       "      <td>0.000000</td>\n",
       "      <td>0.000000</td>\n",
       "      <td>0.000000</td>\n",
       "      <td>0.217672</td>\n",
       "      <td>0.593154</td>\n",
       "      <td>1.0</td>\n",
       "      <td>3.959500</td>\n",
       "      <td>11248.790942</td>\n",
       "      <td>3.0</td>\n",
       "    </tr>\n",
       "    <tr>\n",
       "      <th>50%</th>\n",
       "      <td>5.649260e+07</td>\n",
       "      <td>81.574030</td>\n",
       "      <td>1.000000</td>\n",
       "      <td>0.000000</td>\n",
       "      <td>0.0</td>\n",
       "      <td>0.000000</td>\n",
       "      <td>0.000000</td>\n",
       "      <td>0.000000</td>\n",
       "      <td>0.000000</td>\n",
       "      <td>0.000000</td>\n",
       "      <td>...</td>\n",
       "      <td>0.0</td>\n",
       "      <td>0.000000</td>\n",
       "      <td>0.000000</td>\n",
       "      <td>0.000000</td>\n",
       "      <td>0.339050</td>\n",
       "      <td>0.660950</td>\n",
       "      <td>1.0</td>\n",
       "      <td>11.432828</td>\n",
       "      <td>13756.092738</td>\n",
       "      <td>3.0</td>\n",
       "    </tr>\n",
       "    <tr>\n",
       "      <th>75%</th>\n",
       "      <td>8.020378e+07</td>\n",
       "      <td>94.722907</td>\n",
       "      <td>1.000000</td>\n",
       "      <td>0.000000</td>\n",
       "      <td>0.0</td>\n",
       "      <td>1.000000</td>\n",
       "      <td>0.000000</td>\n",
       "      <td>0.000000</td>\n",
       "      <td>0.000000</td>\n",
       "      <td>0.000000</td>\n",
       "      <td>...</td>\n",
       "      <td>0.0</td>\n",
       "      <td>1.000000</td>\n",
       "      <td>1.000000</td>\n",
       "      <td>1.000000</td>\n",
       "      <td>0.406846</td>\n",
       "      <td>0.782328</td>\n",
       "      <td>1.0</td>\n",
       "      <td>106.631618</td>\n",
       "      <td>21934.239909</td>\n",
       "      <td>3.0</td>\n",
       "    </tr>\n",
       "    <tr>\n",
       "      <th>max</th>\n",
       "      <td>9.918589e+07</td>\n",
       "      <td>100.000000</td>\n",
       "      <td>1.000000</td>\n",
       "      <td>1.000000</td>\n",
       "      <td>0.0</td>\n",
       "      <td>1.000000</td>\n",
       "      <td>1.000000</td>\n",
       "      <td>1.000000</td>\n",
       "      <td>1.000000</td>\n",
       "      <td>1.000000</td>\n",
       "      <td>...</td>\n",
       "      <td>0.0</td>\n",
       "      <td>1.000000</td>\n",
       "      <td>1.000000</td>\n",
       "      <td>1.000000</td>\n",
       "      <td>0.499676</td>\n",
       "      <td>0.933640</td>\n",
       "      <td>1.0</td>\n",
       "      <td>15530.741371</td>\n",
       "      <td>142797.715332</td>\n",
       "      <td>3.0</td>\n",
       "    </tr>\n",
       "  </tbody>\n",
       "</table>\n",
       "<p>8 rows × 30 columns</p>\n",
       "</div>"
      ],
      "text/plain": [
       "         pol_number  credit_score_imp   veh_age_1   veh_age_2  veh_age_4  \\\n",
       "count  1.210000e+02        121.000000  121.000000  121.000000      121.0   \n",
       "mean   5.529849e+07         86.146275    0.892562    0.066116        0.0   \n",
       "std    2.768185e+07          7.487210    0.310957    0.249517        0.0   \n",
       "min    1.085354e+07         79.142032    0.000000    0.000000        0.0   \n",
       "25%    3.281682e+07         79.142032    1.000000    0.000000        0.0   \n",
       "50%    5.649260e+07         81.574030    1.000000    0.000000        0.0   \n",
       "75%    8.020378e+07         94.722907    1.000000    0.000000        0.0   \n",
       "max    9.918589e+07        100.000000    1.000000    1.000000        0.0   \n",
       "\n",
       "       agecat_imputed_1  agecat_imputed_2  agecat_imputed_3  agecat_imputed_4  \\\n",
       "count        121.000000        121.000000        121.000000        121.000000   \n",
       "mean           0.438017          0.123967          0.016529          0.033058   \n",
       "std            0.498206          0.330914          0.128028          0.179531   \n",
       "min            0.000000          0.000000          0.000000          0.000000   \n",
       "25%            0.000000          0.000000          0.000000          0.000000   \n",
       "50%            0.000000          0.000000          0.000000          0.000000   \n",
       "75%            1.000000          0.000000          0.000000          0.000000   \n",
       "max            1.000000          1.000000          1.000000          1.000000   \n",
       "\n",
       "       agecat_imputed_5         ...           cat_veh_value_1  \\\n",
       "count        121.000000         ...                     121.0   \n",
       "mean           0.016529         ...                       0.0   \n",
       "std            0.128028         ...                       0.0   \n",
       "min            0.000000         ...                       0.0   \n",
       "25%            0.000000         ...                       0.0   \n",
       "50%            0.000000         ...                       0.0   \n",
       "75%            0.000000         ...                       0.0   \n",
       "max            1.000000         ...                       0.0   \n",
       "\n",
       "       cat_veh_value_3  cat_veh_value_4  cat_veh_value_5       prob0  \\\n",
       "count       121.000000       121.000000       121.000000  121.000000   \n",
       "mean          0.272727         0.314050         0.363636    0.316697   \n",
       "std           0.447214         0.466066         0.483046    0.121937   \n",
       "min           0.000000         0.000000         0.000000    0.066360   \n",
       "25%           0.000000         0.000000         0.000000    0.217672   \n",
       "50%           0.000000         0.000000         0.000000    0.339050   \n",
       "75%           1.000000         1.000000         1.000000    0.406846   \n",
       "max           1.000000         1.000000         1.000000    0.499676   \n",
       "\n",
       "            prob1  predicted_claim_count  predicted_freq  \\\n",
       "count  121.000000                  121.0      121.000000   \n",
       "mean     0.683303                    1.0      558.124253   \n",
       "std      0.121937                    0.0     2002.998959   \n",
       "min      0.500324                    1.0        1.004738   \n",
       "25%      0.593154                    1.0        3.959500   \n",
       "50%      0.660950                    1.0       11.432828   \n",
       "75%      0.782328                    1.0      106.631618   \n",
       "max      0.933640                    1.0    15530.741371   \n",
       "\n",
       "       predicted_claim_cost  risk_profile_groups  \n",
       "count            121.000000                121.0  \n",
       "mean           18632.065941                  3.0  \n",
       "std            14717.498474                  0.0  \n",
       "min            10017.995749                  3.0  \n",
       "25%            11248.790942                  3.0  \n",
       "50%            13756.092738                  3.0  \n",
       "75%            21934.239909                  3.0  \n",
       "max           142797.715332                  3.0  \n",
       "\n",
       "[8 rows x 30 columns]"
      ]
     },
     "execution_count": 102,
     "metadata": {},
     "output_type": "execute_result"
    }
   ],
   "source": [
    "X_test_final_regress_riskgrp3.describe()"
   ]
  },
  {
   "cell_type": "code",
   "execution_count": 103,
   "metadata": {
    "collapsed": true
   },
   "outputs": [],
   "source": [
    "riskprof3_stats=X_test_final_regress_riskgrp3.describe()"
   ]
  },
  {
   "cell_type": "markdown",
   "metadata": {},
   "source": [
    "### CSV finals for TABLEAU VISUALIZATIONS"
   ]
  },
  {
   "cell_type": "code",
   "execution_count": 104,
   "metadata": {
    "collapsed": true
   },
   "outputs": [],
   "source": [
    "X_test_final_V2.to_csv(\"low_probable_customers_2018.csv\", header=True)"
   ]
  },
  {
   "cell_type": "code",
   "execution_count": 105,
   "metadata": {
    "collapsed": true
   },
   "outputs": [],
   "source": [
    "X_test_final_regress.to_csv(\"low_claim_cost_2018.csv\", header=True)"
   ]
  },
  {
   "cell_type": "code",
   "execution_count": 106,
   "metadata": {},
   "outputs": [],
   "source": [
    "X_test_final_regress_riskgrp3.to_csv(\"risk_profile_3.csv\",header=True)"
   ]
  },
  {
   "cell_type": "code",
   "execution_count": 107,
   "metadata": {
    "collapsed": true
   },
   "outputs": [],
   "source": [
    "X_test_final_regress_riskgrp2.to_csv(\"risk_profile_2.csv\",header=True)"
   ]
  },
  {
   "cell_type": "code",
   "execution_count": 108,
   "metadata": {
    "collapsed": true
   },
   "outputs": [],
   "source": [
    "X_test_final_regress_riskgrp1.to_csv(\"risk_profile_1.csv\",header=True)"
   ]
  },
  {
   "cell_type": "code",
   "execution_count": 109,
   "metadata": {
    "collapsed": true
   },
   "outputs": [],
   "source": [
    "df_final_stats.to_csv(\"final_stats.csv\",header=True)"
   ]
  },
  {
   "cell_type": "code",
   "execution_count": 110,
   "metadata": {
    "collapsed": true
   },
   "outputs": [],
   "source": [
    "riskprof1_stats.to_csv(\"riskprof1_stats.csv\",header=True)"
   ]
  },
  {
   "cell_type": "code",
   "execution_count": 111,
   "metadata": {
    "collapsed": true
   },
   "outputs": [],
   "source": [
    "riskprof2_stats.to_csv(\"riskprof2_stats.csv\",header=True)"
   ]
  },
  {
   "cell_type": "code",
   "execution_count": 112,
   "metadata": {
    "collapsed": true
   },
   "outputs": [],
   "source": [
    "riskprof3_stats.to_csv(\"riskprof3_stats.csv\",header=True)"
   ]
  },
  {
   "cell_type": "code",
   "execution_count": null,
   "metadata": {
    "collapsed": true
   },
   "outputs": [],
   "source": []
  }
 ],
 "metadata": {
  "anaconda-cloud": {},
  "kernelspec": {
   "display_name": "Python 3",
   "language": "python",
   "name": "python3"
  },
  "language_info": {
   "codemirror_mode": {
    "name": "ipython",
    "version": 3
   },
   "file_extension": ".py",
   "mimetype": "text/x-python",
   "name": "python",
   "nbconvert_exporter": "python",
   "pygments_lexer": "ipython3",
   "version": "3.6.1"
  }
 },
 "nbformat": 4,
 "nbformat_minor": 1
}
